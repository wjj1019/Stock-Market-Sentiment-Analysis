{
 "cells": [
  {
   "cell_type": "code",
   "execution_count": 253,
   "metadata": {},
   "outputs": [
    {
     "name": "stderr",
     "output_type": "stream",
     "text": [
      "[nltk_data] Downloading package stopwords to\n",
      "[nltk_data]     /Users/woojaejo/nltk_data...\n",
      "[nltk_data]   Package stopwords is already up-to-date!\n"
     ]
    }
   ],
   "source": [
    "import numpy as np\n",
    "import pandas as pd\n",
    "import matplotlib.pyplot as plt\n",
    "import seaborn as sns\n",
    "\n",
    "import plotly.express as px\n",
    "import plotly.graph_objects as go\n",
    "from plotly.subplots import make_subplots\n",
    "from bs4 import BeautifulSoup\n",
    "import requests\n",
    "import math\n",
    "from urllib.request import urlopen, Request\n",
    "from sklearn.model_selection import train_test_split\n",
    "\n",
    "import math \n",
    "import numpy as np \n",
    "import pandas as pd \n",
    "import matplotlib.pyplot as plt \n",
    "import matplotlib\n",
    "\n",
    "from sklearn.pipeline import Pipeline\n",
    "from sklearn.feature_extraction.text import TfidfTransformer\n",
    "from sklearn.metrics import classification_report, multilabel_confusion_matrix\n",
    "\n",
    "import seaborn as sns\n",
    "\n",
    "import numpy as np # linear algebra\n",
    "import pandas as pd # data processing, CSV file I/O (e.g. pd.read_csv)\n",
    "\n",
    "from keras.preprocessing.text import Tokenizer\n",
    "from keras.preprocessing.sequence import pad_sequences\n",
    "from keras.models import Sequential\n",
    "from keras.layers import Dense, Embedding, LSTM, SpatialDropout1D\n",
    "from sklearn.model_selection import train_test_split\n",
    "from keras.utils.np_utils import to_categorical\n",
    "import re\n",
    "\n",
    "import nltk\n",
    "from nltk.corpus import stopwords\n",
    "nltk.download('stopwords')\n",
    "import tensorflow as tf\n",
    "\n",
    "from sklearn.feature_extraction.text import TfidfVectorizer\n",
    "from sklearn.feature_extraction.text import CountVectorizer\n",
    "from nltk.tokenize import RegexpTokenizer\n",
    "from sklearn.naive_bayes import MultinomialNB\n",
    "from sklearn.linear_model import LogisticRegression\n",
    "from sklearn import metrics\n",
    "from keras.layers import Dense, Input, LSTM, GRU, Conv1D, MaxPooling1D, Concatenate, Dropout, Flatten, Bidirectional\n",
    "import string\n",
    "from nltk.stem import PorterStemmer\n",
    "from nltk.stem import WordNetLemmatizer\n",
    "from nltk.corpus import stopwords\n",
    "\n",
    "from nltk.sentiment.vader import SentimentIntensityAnalyzer\n",
    "from tensorflow import keras\n",
    "from gensim.models import KeyedVectors\n",
    "from gensim import models\n",
    "from tensorflow.keras import regularizers\n",
    "\n",
    "# Library import \n",
    "from sklearn.linear_model import LogisticRegression\n",
    "from sklearn.svm import LinearSVC\n",
    "from sklearn.ensemble import RandomForestClassifier, AdaBoostClassifier, GradientBoostingClassifier\n",
    "from sklearn.naive_bayes import MultinomialNB\n",
    "import xgboost as xgb\n",
    "from sklearn.model_selection import cross_val_score\n",
    "from sklearn.metrics import roc_curve\n",
    "from sklearn.metrics import roc_auc_score\n",
    "from matplotlib import pyplot\n",
    "import sklearn.naive_bayes\n",
    "from sklearn.model_selection import KFold, ShuffleSplit\n",
    "from sklearn.pipeline import Pipeline\n",
    "import warnings\n",
    "from gensim.models import Word2Vec\n",
    "\n",
    "warnings.filterwarnings('ignore')\n",
    "from imblearn.over_sampling import RandomOverSampler, SMOTE\n",
    "from imblearn.under_sampling import RandomUnderSampler\n",
    "from imblearn.pipeline import Pipeline"
   ]
  },
  {
   "cell_type": "code",
   "execution_count": 12,
   "metadata": {},
   "outputs": [],
   "source": [
    "df = pd.read_csv('processed.csv')\n",
    "df.drop(columns = ['Unnamed: 0'], inplace = True)"
   ]
  },
  {
   "cell_type": "code",
   "execution_count": 10,
   "metadata": {},
   "outputs": [],
   "source": [
    "dmap = {1: 'Positive', -1:'Negative'}\n",
    "df['Sentiment'] = df['Sentiment'].map(dmap)"
   ]
  },
  {
   "cell_type": "code",
   "execution_count": 174,
   "metadata": {},
   "outputs": [],
   "source": [
    "X = df['Text']\n",
    "y = pd.get_dummies(df['Sentiment'])\n",
    "# y = df['Sentiment'].map(lambda x: 1 if x == 1 else 0)"
   ]
  },
  {
   "cell_type": "markdown",
   "metadata": {},
   "source": [
    "## Feature Extraction - Vectorization"
   ]
  },
  {
   "cell_type": "code",
   "execution_count": 15,
   "metadata": {},
   "outputs": [],
   "source": [
    "#Bag of Words\n",
    "cv = CountVectorizer(ngram_range=(1,1))\n",
    "bow_X = cv.fit_transform(X).toarray()\n",
    "# Tfidf\n",
    "tf = TfidfVectorizer(ngram_range=(1,2))\n",
    "tf_X = tf.fit_transform(X).toarray()"
   ]
  },
  {
   "cell_type": "markdown",
   "metadata": {},
   "source": [
    "## Word2Vec Training"
   ]
  },
  {
   "cell_type": "code",
   "execution_count": 46,
   "metadata": {},
   "outputs": [],
   "source": [
    "# Training the \n",
    "test = [i.split() for i in df['Text']]\n",
    "model = Word2Vec(sentences=test, vector_size=300, window=3, min_count=1, workers=3)"
   ]
  },
  {
   "cell_type": "code",
   "execution_count": 47,
   "metadata": {},
   "outputs": [
    {
     "name": "stdout",
     "output_type": "stream",
     "text": [
      "(300,)\n"
     ]
    }
   ],
   "source": [
    "print(model.wv['user'].shape)"
   ]
  },
  {
   "cell_type": "code",
   "execution_count": 48,
   "metadata": {},
   "outputs": [
    {
     "data": {
      "text/plain": [
       "[('short', 0.9996002912521362),\n",
       " ('good', 0.9995472431182861),\n",
       " ('aap', 0.9995437860488892),\n",
       " ('stock', 0.9995434284210205),\n",
       " ('today', 0.9995408654212952),\n",
       " ('one', 0.9995338320732117),\n",
       " ('big', 0.9995330572128296),\n",
       " ('still', 0.9995279908180237),\n",
       " ('see', 0.9995168447494507),\n",
       " ('stocks', 0.9995134472846985)]"
      ]
     },
     "execution_count": 48,
     "metadata": {},
     "output_type": "execute_result"
    }
   ],
   "source": [
    "model.wv.most_similar('trade', topn=10)  # get other similar words"
   ]
  },
  {
   "cell_type": "markdown",
   "metadata": {},
   "source": [
    "## Word2Vec Pretrained"
   ]
  },
  {
   "cell_type": "code",
   "execution_count": 160,
   "metadata": {},
   "outputs": [],
   "source": [
    "from gensim.models import KeyedVectors\n",
    "from gensim import models\n",
    "pretrained = KeyedVectors.load_word2vec_format('https://s3.amazonaws.com/dl4j-distribution/GoogleNews-vectors-negative300.bin.gz',binary=True,limit=100000)"
   ]
  },
  {
   "cell_type": "markdown",
   "metadata": {},
   "source": [
    "# Neural Network"
   ]
  },
  {
   "cell_type": "code",
   "execution_count": 336,
   "metadata": {},
   "outputs": [],
   "source": [
    "#Initializing Parameters\n",
    "max_features = 5000 #Input dimensions\n",
    "batch_size = 128"
   ]
  },
  {
   "cell_type": "code",
   "execution_count": 337,
   "metadata": {},
   "outputs": [],
   "source": [
    "#Tokenizing and Padding\n",
    "tokenizer = Tokenizer(num_words = max_features, oov_token='OOV')\n",
    "tokenizer.fit_on_texts(X)\n",
    "\n",
    "sequence = tokenizer.texts_to_sequences(X)\n",
    "padded = pad_sequences(sequence, maxlen=20)\n",
    "\n",
    "#Word Dictionary\n",
    "word_index = tokenizer.word_index\n",
    "#Vocabulary Size +1 (for NN input)\n",
    "vocab = len(word_index)+1"
   ]
  },
  {
   "cell_type": "code",
   "execution_count": 338,
   "metadata": {},
   "outputs": [
    {
     "data": {
      "text/plain": [
       "(5118, 20)"
      ]
     },
     "execution_count": 338,
     "metadata": {},
     "output_type": "execute_result"
    }
   ],
   "source": [
    "padded.shape"
   ]
  },
  {
   "cell_type": "code",
   "execution_count": 118,
   "metadata": {},
   "outputs": [
    {
     "name": "stdout",
     "output_type": "stream",
     "text": [
      "(3582, 20) (3582, 2)\n",
      "(768, 20) (768, 2)\n",
      "(768, 20) (768, 2)\n"
     ]
    }
   ],
   "source": [
    "#Train Test Validation Split\n",
    "X_train, X_test, y_train, y_test = train_test_split(padded, y, test_size=0.3, random_state=42)    \n",
    "X_valid, X_test, y_valid, y_test = train_test_split(X_test, y_test, test_size = 0.5, random_state=42)\n",
    "\n",
    "print(X_train.shape, y_train.shape)\n",
    "print(X_test.shape, y_test.shape)\n",
    "print(X_valid.shape, y_valid.shape)"
   ]
  },
  {
   "cell_type": "code",
   "execution_count": 137,
   "metadata": {},
   "outputs": [
    {
     "name": "stdout",
     "output_type": "stream",
     "text": [
      "Model: \"sequential_23\"\n",
      "_________________________________________________________________\n",
      "Layer (type)                 Output Shape              Param #   \n",
      "=================================================================\n",
      "dense_79 (Dense)             (None, 64)                1344      \n",
      "_________________________________________________________________\n",
      "dense_80 (Dense)             (None, 32)                2080      \n",
      "_________________________________________________________________\n",
      "dropout_19 (Dropout)         (None, 32)                0         \n",
      "_________________________________________________________________\n",
      "dense_81 (Dense)             (None, 16)                528       \n",
      "_________________________________________________________________\n",
      "dense_82 (Dense)             (None, 2)                 34        \n",
      "=================================================================\n",
      "Total params: 3,986\n",
      "Trainable params: 3,986\n",
      "Non-trainable params: 0\n",
      "_________________________________________________________________\n",
      "None\n"
     ]
    }
   ],
   "source": [
    "#Multilayered Perceptron\n",
    "nn = Sequential()\n",
    "nn.add(Input(shape=(20,)))\n",
    "nn.add(Dense(64, activation = 'relu',))\n",
    "nn.add(Dense(32, activation = 'relu'))\n",
    "nn.add(Dropout(0.2))\n",
    "nn.add(Dense(16, activation = 'relu'))\n",
    "nn.add(Dense(2, activation = 'softmax'))\n",
    "print(nn.summary())\n",
    "\n",
    "nn.compile(loss = 'categorical_crossentropy', optimizer = 'RMSprop', metrics = ['accuracy'])"
   ]
  },
  {
   "cell_type": "code",
   "execution_count": 138,
   "metadata": {},
   "outputs": [
    {
     "name": "stdout",
     "output_type": "stream",
     "text": [
      "Epoch 1/50\n",
      "23/23 [==============================] - 1s 7ms/step - loss: 63.6148 - accuracy: 0.5002 - val_loss: 21.2935 - val_accuracy: 0.6151\n",
      "Epoch 2/50\n",
      "23/23 [==============================] - 0s 3ms/step - loss: 24.6459 - accuracy: 0.5442 - val_loss: 13.5406 - val_accuracy: 0.6430\n",
      "Epoch 3/50\n",
      "23/23 [==============================] - 0s 3ms/step - loss: 14.9456 - accuracy: 0.5564 - val_loss: 8.5550 - val_accuracy: 0.6123\n",
      "Epoch 4/50\n",
      "23/23 [==============================] - 0s 3ms/step - loss: 10.0267 - accuracy: 0.5508 - val_loss: 5.7502 - val_accuracy: 0.5802\n",
      "Epoch 5/50\n",
      "23/23 [==============================] - 0s 2ms/step - loss: 7.0669 - accuracy: 0.5599 - val_loss: 3.8053 - val_accuracy: 0.5495\n",
      "Epoch 6/50\n",
      "23/23 [==============================] - 0s 3ms/step - loss: 4.2034 - accuracy: 0.5508 - val_loss: 2.3808 - val_accuracy: 0.4756\n",
      "Epoch 7/50\n",
      "23/23 [==============================] - 0s 2ms/step - loss: 2.6847 - accuracy: 0.5445 - val_loss: 1.2659 - val_accuracy: 0.6081\n",
      "Epoch 8/50\n",
      "23/23 [==============================] - 0s 2ms/step - loss: 1.4969 - accuracy: 0.5703 - val_loss: 0.9117 - val_accuracy: 0.4128\n",
      "Epoch 9/50\n",
      "23/23 [==============================] - 0s 2ms/step - loss: 1.2343 - accuracy: 0.5689 - val_loss: 0.8929 - val_accuracy: 0.3766\n",
      "Epoch 10/50\n",
      "23/23 [==============================] - 0s 2ms/step - loss: 0.9068 - accuracy: 0.5801 - val_loss: 0.8215 - val_accuracy: 0.3821\n",
      "Epoch 11/50\n",
      "23/23 [==============================] - 0s 2ms/step - loss: 0.8325 - accuracy: 0.6066 - val_loss: 0.7561 - val_accuracy: 0.6471\n",
      "Epoch 12/50\n",
      "23/23 [==============================] - 0s 2ms/step - loss: 0.7835 - accuracy: 0.5976 - val_loss: 0.6754 - val_accuracy: 0.6430\n",
      "Epoch 13/50\n",
      "23/23 [==============================] - 0s 2ms/step - loss: 0.7761 - accuracy: 0.6042 - val_loss: 0.6594 - val_accuracy: 0.6457\n",
      "Epoch 14/50\n",
      "23/23 [==============================] - 0s 2ms/step - loss: 0.7225 - accuracy: 0.6084 - val_loss: 0.6902 - val_accuracy: 0.6444\n",
      "Epoch 15/50\n",
      "23/23 [==============================] - 0s 3ms/step - loss: 0.7153 - accuracy: 0.6066 - val_loss: 0.6744 - val_accuracy: 0.6444\n",
      "Epoch 16/50\n",
      "23/23 [==============================] - 0s 2ms/step - loss: 0.6980 - accuracy: 0.6115 - val_loss: 0.6581 - val_accuracy: 0.6444\n",
      "Epoch 17/50\n",
      "23/23 [==============================] - 0s 1ms/step - loss: 0.6866 - accuracy: 0.6206 - val_loss: 0.6810 - val_accuracy: 0.6444\n",
      "Epoch 18/50\n",
      "23/23 [==============================] - 0s 2ms/step - loss: 0.6966 - accuracy: 0.6237 - val_loss: 0.6647 - val_accuracy: 0.6444\n",
      "Epoch 19/50\n",
      "23/23 [==============================] - 0s 2ms/step - loss: 0.6826 - accuracy: 0.6216 - val_loss: 0.6789 - val_accuracy: 0.6220\n",
      "Epoch 20/50\n",
      "23/23 [==============================] - 0s 1ms/step - loss: 0.6798 - accuracy: 0.6234 - val_loss: 0.6798 - val_accuracy: 0.6430\n",
      "Epoch 21/50\n",
      "23/23 [==============================] - 0s 2ms/step - loss: 0.6775 - accuracy: 0.6286 - val_loss: 0.7074 - val_accuracy: 0.6430\n",
      "Epoch 22/50\n",
      "23/23 [==============================] - 0s 2ms/step - loss: 0.6965 - accuracy: 0.6251 - val_loss: 0.6525 - val_accuracy: 0.6444\n",
      "Epoch 23/50\n",
      "23/23 [==============================] - 0s 2ms/step - loss: 0.6741 - accuracy: 0.6293 - val_loss: 0.6538 - val_accuracy: 0.6444\n",
      "Epoch 24/50\n",
      "23/23 [==============================] - 0s 2ms/step - loss: 0.6663 - accuracy: 0.6307 - val_loss: 0.6580 - val_accuracy: 0.6430\n",
      "Epoch 25/50\n",
      "23/23 [==============================] - 0s 2ms/step - loss: 0.6951 - accuracy: 0.6258 - val_loss: 0.6549 - val_accuracy: 0.6444\n",
      "Epoch 26/50\n",
      "23/23 [==============================] - 0s 1ms/step - loss: 0.6797 - accuracy: 0.6279 - val_loss: 0.6582 - val_accuracy: 0.6444\n",
      "Epoch 27/50\n",
      "23/23 [==============================] - 0s 2ms/step - loss: 0.6607 - accuracy: 0.6304 - val_loss: 0.6530 - val_accuracy: 0.6444\n",
      "Epoch 28/50\n",
      "23/23 [==============================] - 0s 1ms/step - loss: 0.6711 - accuracy: 0.6290 - val_loss: 0.6557 - val_accuracy: 0.6444\n",
      "Epoch 29/50\n",
      "23/23 [==============================] - 0s 2ms/step - loss: 0.6638 - accuracy: 0.6286 - val_loss: 0.6546 - val_accuracy: 0.6430\n",
      "Epoch 30/50\n",
      "23/23 [==============================] - 0s 2ms/step - loss: 0.6641 - accuracy: 0.6321 - val_loss: 0.6508 - val_accuracy: 0.6444\n",
      "Epoch 31/50\n",
      "23/23 [==============================] - 0s 2ms/step - loss: 0.6663 - accuracy: 0.6300 - val_loss: 0.6517 - val_accuracy: 0.6457\n",
      "Epoch 32/50\n",
      "23/23 [==============================] - 0s 2ms/step - loss: 0.6728 - accuracy: 0.6297 - val_loss: 0.6498 - val_accuracy: 0.6444\n",
      "Epoch 33/50\n",
      "23/23 [==============================] - 0s 2ms/step - loss: 0.6592 - accuracy: 0.6314 - val_loss: 0.6462 - val_accuracy: 0.6444\n",
      "Epoch 34/50\n",
      "23/23 [==============================] - 0s 2ms/step - loss: 0.6682 - accuracy: 0.6300 - val_loss: 0.6498 - val_accuracy: 0.6444\n",
      "Epoch 35/50\n",
      "23/23 [==============================] - 0s 2ms/step - loss: 0.6690 - accuracy: 0.6321 - val_loss: 0.6539 - val_accuracy: 0.6430\n",
      "Epoch 36/50\n",
      "23/23 [==============================] - 0s 2ms/step - loss: 0.6571 - accuracy: 0.6314 - val_loss: 0.6503 - val_accuracy: 0.6444\n",
      "Epoch 37/50\n",
      "23/23 [==============================] - 0s 1ms/step - loss: 0.6905 - accuracy: 0.6304 - val_loss: 0.6583 - val_accuracy: 0.6444\n",
      "Epoch 38/50\n",
      "23/23 [==============================] - 0s 2ms/step - loss: 0.6506 - accuracy: 0.6335 - val_loss: 0.6509 - val_accuracy: 0.6444\n",
      "Epoch 39/50\n",
      "23/23 [==============================] - 0s 2ms/step - loss: 0.6521 - accuracy: 0.6297 - val_loss: 0.6507 - val_accuracy: 0.6444\n",
      "Epoch 40/50\n",
      "23/23 [==============================] - 0s 2ms/step - loss: 0.6703 - accuracy: 0.6304 - val_loss: 0.6548 - val_accuracy: 0.6444\n",
      "Epoch 41/50\n",
      "23/23 [==============================] - 0s 1ms/step - loss: 0.6493 - accuracy: 0.6304 - val_loss: 0.6495 - val_accuracy: 0.6457\n",
      "Epoch 42/50\n",
      "23/23 [==============================] - 0s 1ms/step - loss: 0.6500 - accuracy: 0.6293 - val_loss: 0.6535 - val_accuracy: 0.6457\n",
      "Epoch 43/50\n",
      "23/23 [==============================] - 0s 2ms/step - loss: 0.6536 - accuracy: 0.6325 - val_loss: 0.6645 - val_accuracy: 0.6444\n",
      "Epoch 44/50\n",
      "23/23 [==============================] - 0s 2ms/step - loss: 0.6523 - accuracy: 0.6335 - val_loss: 0.6723 - val_accuracy: 0.6444\n",
      "Epoch 45/50\n",
      "23/23 [==============================] - 0s 1ms/step - loss: 0.6692 - accuracy: 0.6349 - val_loss: 0.6573 - val_accuracy: 0.6444\n",
      "Epoch 46/50\n",
      "23/23 [==============================] - 0s 2ms/step - loss: 0.6455 - accuracy: 0.6328 - val_loss: 0.6621 - val_accuracy: 0.6444\n",
      "Epoch 47/50\n",
      "23/23 [==============================] - 0s 2ms/step - loss: 0.6538 - accuracy: 0.6339 - val_loss: 0.6535 - val_accuracy: 0.6444\n",
      "Epoch 48/50\n",
      "23/23 [==============================] - 0s 1ms/step - loss: 0.6499 - accuracy: 0.6318 - val_loss: 0.6567 - val_accuracy: 0.6430\n",
      "Epoch 49/50\n",
      "23/23 [==============================] - 0s 2ms/step - loss: 0.6722 - accuracy: 0.6318 - val_loss: 0.6629 - val_accuracy: 0.6416\n",
      "Epoch 50/50\n",
      "23/23 [==============================] - 0s 2ms/step - loss: 0.6399 - accuracy: 0.6342 - val_loss: 0.6625 - val_accuracy: 0.6430\n"
     ]
    }
   ],
   "source": [
    "history = nn.fit(X_train, y_train, epochs = 50, batch_size = batch_size, verbose =1,\n",
    "      validation_data=(X_valid, y_valid), validation_split= 0.2)"
   ]
  },
  {
   "cell_type": "markdown",
   "metadata": {},
   "source": [
    "#### It seems like the local optimal was found along the way to global minimum and the gap between train and validation loss increases as epochs increase (sign of overfitting)"
   ]
  },
  {
   "cell_type": "code",
   "execution_count": 172,
   "metadata": {},
   "outputs": [
    {
     "name": "stdout",
     "output_type": "stream",
     "text": [
      "Model: \"sequential_29\"\n",
      "_________________________________________________________________\n",
      "Layer (type)                 Output Shape              Param #   \n",
      "=================================================================\n",
      "embedding_10 (Embedding)     (None, 20, 100)           833000    \n",
      "_________________________________________________________________\n",
      "flatten_10 (Flatten)         (None, 2000)              0         \n",
      "_________________________________________________________________\n",
      "dense_93 (Dense)             (None, 64)                128064    \n",
      "_________________________________________________________________\n",
      "dropout_26 (Dropout)         (None, 64)                0         \n",
      "_________________________________________________________________\n",
      "dense_94 (Dense)             (None, 32)                2080      \n",
      "_________________________________________________________________\n",
      "dropout_27 (Dropout)         (None, 32)                0         \n",
      "_________________________________________________________________\n",
      "dense_95 (Dense)             (None, 2)                 66        \n",
      "=================================================================\n",
      "Total params: 963,210\n",
      "Trainable params: 963,210\n",
      "Non-trainable params: 0\n",
      "_________________________________________________________________\n",
      "None\n"
     ]
    }
   ],
   "source": [
    "#Embedding Layer creation\n",
    "nn = Sequential()\n",
    "nn.add(Embedding(input_dim = vocab, output_dim = 100, input_length = 20 ))\n",
    "nn.add(Flatten())\n",
    "nn.add(Dense(64, activation = 'relu', kernel_regularizer=regularizers.l2(0.01)))\n",
    "nn.add(Dropout(0.4))\n",
    "nn.add(Dense(32, activation = 'relu'))\n",
    "nn.add(Dropout(0.5))\n",
    "nn.add(Dense(2, activation = 'softmax'))\n",
    "print(rnn.summary())\n",
    "\n",
    "nn.compile(loss = 'categorical_crossentropy', optimizer = 'Adam', metrics = ['accuracy'])"
   ]
  },
  {
   "cell_type": "code",
   "execution_count": 173,
   "metadata": {
    "scrolled": true
   },
   "outputs": [
    {
     "name": "stdout",
     "output_type": "stream",
     "text": [
      "Epoch 1/20\n",
      "28/28 [==============================] - 1s 14ms/step - loss: 1.3159 - accuracy: 0.6293 - val_loss: 0.8914 - val_accuracy: 0.6263\n",
      "Epoch 2/20\n",
      "28/28 [==============================] - 0s 8ms/step - loss: 0.7517 - accuracy: 0.6334 - val_loss: 0.6778 - val_accuracy: 0.6263\n",
      "Epoch 3/20\n",
      "28/28 [==============================] - 0s 12ms/step - loss: 0.6088 - accuracy: 0.6868 - val_loss: 0.6203 - val_accuracy: 0.6810\n",
      "Epoch 4/20\n",
      "28/28 [==============================] - 0s 12ms/step - loss: 0.4562 - accuracy: 0.8169 - val_loss: 0.6029 - val_accuracy: 0.7357\n",
      "Epoch 5/20\n",
      "28/28 [==============================] - 0s 10ms/step - loss: 0.3098 - accuracy: 0.9213 - val_loss: 0.6513 - val_accuracy: 0.7161\n",
      "Epoch 6/20\n",
      "28/28 [==============================] - 0s 9ms/step - loss: 0.2006 - accuracy: 0.9712 - val_loss: 0.6964 - val_accuracy: 0.7266\n",
      "Epoch 7/20\n",
      "28/28 [==============================] - 0s 9ms/step - loss: 0.1454 - accuracy: 0.9860 - val_loss: 0.7327 - val_accuracy: 0.7253\n",
      "Epoch 8/20\n",
      "28/28 [==============================] - 0s 8ms/step - loss: 0.1117 - accuracy: 0.9913 - val_loss: 0.8008 - val_accuracy: 0.7253\n",
      "Epoch 9/20\n",
      "28/28 [==============================] - 0s 9ms/step - loss: 0.0798 - accuracy: 0.9955 - val_loss: 0.8047 - val_accuracy: 0.7266\n",
      "Epoch 10/20\n",
      "28/28 [==============================] - 0s 9ms/step - loss: 0.0681 - accuracy: 0.9975 - val_loss: 0.8219 - val_accuracy: 0.7318\n",
      "Epoch 11/20\n",
      "28/28 [==============================] - 0s 9ms/step - loss: 0.0559 - accuracy: 0.9978 - val_loss: 0.8452 - val_accuracy: 0.7318\n",
      "Epoch 12/20\n",
      "28/28 [==============================] - 0s 8ms/step - loss: 0.0495 - accuracy: 0.9983 - val_loss: 0.8712 - val_accuracy: 0.7292\n",
      "Epoch 13/20\n",
      "28/28 [==============================] - 0s 10ms/step - loss: 0.0452 - accuracy: 0.9983 - val_loss: 0.8776 - val_accuracy: 0.7253\n",
      "Epoch 14/20\n",
      "28/28 [==============================] - 0s 9ms/step - loss: 0.0452 - accuracy: 0.9972 - val_loss: 0.9848 - val_accuracy: 0.7266\n",
      "Epoch 15/20\n",
      "28/28 [==============================] - 0s 8ms/step - loss: 0.0410 - accuracy: 0.9972 - val_loss: 0.9262 - val_accuracy: 0.7201\n",
      "Epoch 16/20\n",
      "28/28 [==============================] - 0s 11ms/step - loss: 0.0348 - accuracy: 0.9983 - val_loss: 0.9784 - val_accuracy: 0.7214\n",
      "Epoch 17/20\n",
      "28/28 [==============================] - 0s 10ms/step - loss: 0.0331 - accuracy: 0.9980 - val_loss: 0.9650 - val_accuracy: 0.7227\n",
      "Epoch 18/20\n",
      "28/28 [==============================] - 0s 8ms/step - loss: 0.0290 - accuracy: 0.9989 - val_loss: 0.9549 - val_accuracy: 0.7214\n",
      "Epoch 19/20\n",
      "28/28 [==============================] - 0s 9ms/step - loss: 0.0279 - accuracy: 0.9980 - val_loss: 0.9885 - val_accuracy: 0.7122\n",
      "Epoch 20/20\n",
      "28/28 [==============================] - 0s 8ms/step - loss: 0.0280 - accuracy: 0.9980 - val_loss: 1.0576 - val_accuracy: 0.7279\n"
     ]
    },
    {
     "data": {
      "text/plain": [
       "<keras.callbacks.History at 0x7f85307e8f10>"
      ]
     },
     "execution_count": 173,
     "metadata": {},
     "output_type": "execute_result"
    }
   ],
   "source": [
    "nn.fit(X_train, y_train, epochs = 20, batch_size = batch_size, verbose = 1,\n",
    "       validation_data = (X_valid, y_valid))"
   ]
  },
  {
   "cell_type": "markdown",
   "metadata": {},
   "source": [
    "#### Sign of overfitting, accuracy of trainset increases overtime and loss decreases, validation set loss increases at certain point"
   ]
  },
  {
   "cell_type": "markdown",
   "metadata": {},
   "source": [
    "## Pre-trained Embedding"
   ]
  },
  {
   "cell_type": "code",
   "execution_count": 152,
   "metadata": {},
   "outputs": [],
   "source": [
    "# Getting the maximum token counts \n",
    "def get_max_length(df):\n",
    "\n",
    "    max_length = 0\n",
    "    for row in df['Text']:\n",
    "        if len(row.split(\" \")) > max_length:\n",
    "            max_length = len(row.split(\" \"))\n",
    "    return max_length"
   ]
  },
  {
   "cell_type": "code",
   "execution_count": 153,
   "metadata": {},
   "outputs": [
    {
     "data": {
      "text/plain": [
       "23"
      ]
     },
     "execution_count": 153,
     "metadata": {},
     "output_type": "execute_result"
    }
   ],
   "source": [
    "# This will be the padding length \n",
    "get_max_length(df)"
   ]
  },
  {
   "cell_type": "code",
   "execution_count": 163,
   "metadata": {},
   "outputs": [],
   "source": [
    "def embedding_matrix (dimension, vocab_size, word2vec, word_index):\n",
    "    \n",
    "    embedding_dim = dimension # Embedding Dimensions\n",
    "    embedding_matrix = np.zeros((vocab_size, embedding_dim)) #Initializing Embedding Matrix (Weight Matrix for Embedding Layer)\n",
    "    embedding_vector = 0 #Initialization of vector for each word \n",
    "\n",
    "    #Iterate through word_index obtained from Keras\n",
    "    for word, index in word_index.items():\n",
    "        try:\n",
    "            embedding_vector = word2vec[word] #Extract 300dim vector from pretrained word Embedding\n",
    "        except:\n",
    "            pass #if the word within the word_index not present, leave it as 0 vector\n",
    "        if embedding_vector is not None:\n",
    "            embedding_matrix[index] = embedding_vector #Place embedding vector into embedding matrix\n",
    "    print('Embedding Matrix Shape:', embedding_matrix.shape)\n",
    "    \n",
    "    return embedding_matrix "
   ]
  },
  {
   "cell_type": "code",
   "execution_count": 166,
   "metadata": {},
   "outputs": [
    {
     "name": "stdout",
     "output_type": "stream",
     "text": [
      "Embedding Matrix Shape: (8330, 300)\n"
     ]
    }
   ],
   "source": [
    "pretrained_embedding = embedding_matrix(300, vocab_size = vocab, word2vec = pretrained, word_index = word_index)"
   ]
  },
  {
   "cell_type": "code",
   "execution_count": 176,
   "metadata": {},
   "outputs": [
    {
     "name": "stdout",
     "output_type": "stream",
     "text": [
      "(3582, 23) (3582, 2)\n",
      "(768, 23) (768, 2)\n",
      "(768, 23) (768, 2)\n"
     ]
    }
   ],
   "source": [
    "tokenizer = Tokenizer()\n",
    "tokenizer.fit_on_texts(X)\n",
    "sequence = tokenizer.texts_to_sequences(X)\n",
    "padding = pad_sequences(sequence, maxlen = 23)\n",
    "\n",
    "X_train, X_test, y_train, y_test = train_test_split(padding, y, test_size=0.3, random_state=42)    \n",
    "X_valid, X_test, y_valid, y_test = train_test_split(X_test, y_test, test_size = 0.5, random_state=42)\n",
    "\n",
    "print(X_train.shape, y_train.shape)\n",
    "print(X_test.shape, y_test.shape)\n",
    "print(X_valid.shape, y_valid.shape)"
   ]
  },
  {
   "cell_type": "code",
   "execution_count": 178,
   "metadata": {},
   "outputs": [
    {
     "name": "stdout",
     "output_type": "stream",
     "text": [
      "Model: \"sequential_34\"\n",
      "_________________________________________________________________\n",
      "Layer (type)                 Output Shape              Param #   \n",
      "=================================================================\n",
      "embedding_14 (Embedding)     (None, 23, 300)           2499000   \n",
      "_________________________________________________________________\n",
      "flatten_14 (Flatten)         (None, 6900)              0         \n",
      "_________________________________________________________________\n",
      "dense_105 (Dense)            (None, 64)                441664    \n",
      "_________________________________________________________________\n",
      "dropout_34 (Dropout)         (None, 64)                0         \n",
      "_________________________________________________________________\n",
      "dense_106 (Dense)            (None, 32)                2080      \n",
      "_________________________________________________________________\n",
      "dropout_35 (Dropout)         (None, 32)                0         \n",
      "_________________________________________________________________\n",
      "dense_107 (Dense)            (None, 2)                 66        \n",
      "=================================================================\n",
      "Total params: 2,942,810\n",
      "Trainable params: 443,810\n",
      "Non-trainable params: 2,499,000\n",
      "_________________________________________________________________\n",
      "None\n"
     ]
    }
   ],
   "source": [
    "# Pretrained Embedding - Multilayered Perceptron\n",
    "nn = Sequential()\n",
    "nn.add(Embedding(input_dim = vocab, output_dim = 300, input_length = 23, \n",
    "                embeddings_initializer = keras.initializers.Constant(pretrained_embedding),\n",
    "                trainable = False))\n",
    "nn.add(Flatten())\n",
    "nn.add(Dense(64, activation = 'relu'))\n",
    "nn.add(Dropout(0.5))\n",
    "nn.add(Dense(32, activation = 'relu'))\n",
    "nn.add(Dropout(0.5))\n",
    "nn.add(Dense(2, activation = 'sigmoid'))\n",
    "print(nn.summary())\n",
    "\n",
    "nn.compile(loss = 'binary_crossentropy', optimizer = 'adam', metrics = ['accuracy'])"
   ]
  },
  {
   "cell_type": "code",
   "execution_count": 180,
   "metadata": {
    "scrolled": true
   },
   "outputs": [
    {
     "name": "stdout",
     "output_type": "stream",
     "text": [
      "Epoch 1/30\n",
      "28/28 [==============================] - 1s 9ms/step - loss: 0.6656 - accuracy: 0.6131 - val_loss: 0.6407 - val_accuracy: 0.6380\n",
      "Epoch 2/30\n",
      "28/28 [==============================] - 0s 6ms/step - loss: 0.6106 - accuracy: 0.6706 - val_loss: 0.6251 - val_accuracy: 0.6562\n",
      "Epoch 3/30\n",
      "28/28 [==============================] - 0s 6ms/step - loss: 0.5733 - accuracy: 0.7111 - val_loss: 0.6193 - val_accuracy: 0.6602\n",
      "Epoch 4/30\n",
      "28/28 [==============================] - 0s 6ms/step - loss: 0.5139 - accuracy: 0.7644 - val_loss: 0.6343 - val_accuracy: 0.6562\n",
      "Epoch 5/30\n",
      "28/28 [==============================] - 0s 5ms/step - loss: 0.4354 - accuracy: 0.8157 - val_loss: 0.6852 - val_accuracy: 0.6549\n",
      "Epoch 6/30\n",
      "28/28 [==============================] - 0s 6ms/step - loss: 0.3723 - accuracy: 0.8529 - val_loss: 0.7358 - val_accuracy: 0.6562\n",
      "Epoch 7/30\n",
      "28/28 [==============================] - 0s 6ms/step - loss: 0.3057 - accuracy: 0.8878 - val_loss: 0.7935 - val_accuracy: 0.6602\n",
      "Epoch 8/30\n",
      "28/28 [==============================] - 0s 5ms/step - loss: 0.2583 - accuracy: 0.9068 - val_loss: 0.8576 - val_accuracy: 0.6576\n",
      "Epoch 9/30\n",
      "28/28 [==============================] - 0s 5ms/step - loss: 0.2108 - accuracy: 0.9305 - val_loss: 0.9732 - val_accuracy: 0.6549\n",
      "Epoch 10/30\n",
      "28/28 [==============================] - 0s 6ms/step - loss: 0.1704 - accuracy: 0.9444 - val_loss: 1.0158 - val_accuracy: 0.6471\n",
      "Epoch 11/30\n",
      "28/28 [==============================] - 0s 5ms/step - loss: 0.1428 - accuracy: 0.9598 - val_loss: 1.0332 - val_accuracy: 0.6471\n",
      "Epoch 12/30\n",
      "28/28 [==============================] - 0s 5ms/step - loss: 0.1111 - accuracy: 0.9696 - val_loss: 1.2124 - val_accuracy: 0.6406\n",
      "Epoch 13/30\n",
      "28/28 [==============================] - 0s 5ms/step - loss: 0.1001 - accuracy: 0.9696 - val_loss: 1.2669 - val_accuracy: 0.6471\n",
      "Epoch 14/30\n",
      "28/28 [==============================] - 0s 5ms/step - loss: 0.0894 - accuracy: 0.9774 - val_loss: 1.2547 - val_accuracy: 0.6562\n",
      "Epoch 15/30\n",
      "28/28 [==============================] - 0s 5ms/step - loss: 0.0760 - accuracy: 0.9793 - val_loss: 1.4225 - val_accuracy: 0.6523\n",
      "Epoch 16/30\n",
      "28/28 [==============================] - 0s 5ms/step - loss: 0.0762 - accuracy: 0.9768 - val_loss: 1.4038 - val_accuracy: 0.6458\n",
      "Epoch 17/30\n",
      "28/28 [==============================] - 0s 5ms/step - loss: 0.0574 - accuracy: 0.9855 - val_loss: 1.4940 - val_accuracy: 0.6523\n",
      "Epoch 18/30\n",
      "28/28 [==============================] - 0s 6ms/step - loss: 0.0473 - accuracy: 0.9880 - val_loss: 1.5594 - val_accuracy: 0.6549\n",
      "Epoch 19/30\n",
      "28/28 [==============================] - 0s 5ms/step - loss: 0.0469 - accuracy: 0.9877 - val_loss: 1.5899 - val_accuracy: 0.6523\n",
      "Epoch 20/30\n",
      "28/28 [==============================] - 0s 5ms/step - loss: 0.0479 - accuracy: 0.9869 - val_loss: 1.6548 - val_accuracy: 0.6536\n",
      "Epoch 21/30\n",
      "28/28 [==============================] - 0s 5ms/step - loss: 0.0467 - accuracy: 0.9866 - val_loss: 1.6115 - val_accuracy: 0.6471\n",
      "Epoch 22/30\n",
      "28/28 [==============================] - 0s 5ms/step - loss: 0.0388 - accuracy: 0.9891 - val_loss: 1.7397 - val_accuracy: 0.6602\n",
      "Epoch 23/30\n",
      "28/28 [==============================] - 0s 5ms/step - loss: 0.0418 - accuracy: 0.9883 - val_loss: 1.7206 - val_accuracy: 0.6419\n",
      "Epoch 24/30\n",
      "28/28 [==============================] - 0s 5ms/step - loss: 0.0313 - accuracy: 0.9905 - val_loss: 1.8500 - val_accuracy: 0.6289\n",
      "Epoch 25/30\n",
      "28/28 [==============================] - 0s 5ms/step - loss: 0.0338 - accuracy: 0.9897 - val_loss: 1.7645 - val_accuracy: 0.6341\n",
      "Epoch 26/30\n",
      "28/28 [==============================] - 0s 5ms/step - loss: 0.0295 - accuracy: 0.9916 - val_loss: 1.8590 - val_accuracy: 0.6419\n",
      "Epoch 27/30\n",
      "28/28 [==============================] - 0s 6ms/step - loss: 0.0328 - accuracy: 0.9886 - val_loss: 1.8591 - val_accuracy: 0.6471\n",
      "Epoch 28/30\n",
      "28/28 [==============================] - 0s 5ms/step - loss: 0.0332 - accuracy: 0.9894 - val_loss: 1.8182 - val_accuracy: 0.6406\n",
      "Epoch 29/30\n",
      "28/28 [==============================] - 0s 5ms/step - loss: 0.0330 - accuracy: 0.9891 - val_loss: 1.8599 - val_accuracy: 0.6445\n",
      "Epoch 30/30\n",
      "28/28 [==============================] - 0s 5ms/step - loss: 0.0319 - accuracy: 0.9891 - val_loss: 1.9327 - val_accuracy: 0.6432\n"
     ]
    },
    {
     "data": {
      "text/plain": [
       "<keras.callbacks.History at 0x7f85322f6190>"
      ]
     },
     "execution_count": 180,
     "metadata": {},
     "output_type": "execute_result"
    }
   ],
   "source": [
    "nn.fit(X_train, y_train, epochs = 30, batch_size = batch_size, verbose = 1, validation_data = (X_valid, y_valid))"
   ]
  },
  {
   "cell_type": "markdown",
   "metadata": {},
   "source": [
    "#### Validation Loss and Train Loss has a large gap in between -> Overfitting"
   ]
  },
  {
   "cell_type": "code",
   "execution_count": 231,
   "metadata": {},
   "outputs": [],
   "source": [
    "# optimizer = tf.keras.optimizers.Adam(lr=0.0003, decay=1e-6)"
   ]
  },
  {
   "cell_type": "code",
   "execution_count": 232,
   "metadata": {},
   "outputs": [
    {
     "name": "stdout",
     "output_type": "stream",
     "text": [
      "Model: \"sequential_51\"\n",
      "_________________________________________________________________\n",
      "Layer (type)                 Output Shape              Param #   \n",
      "=================================================================\n",
      "embedding_31 (Embedding)     (None, 23, 300)           2499000   \n",
      "_________________________________________________________________\n",
      "spatial_dropout1d_11 (Spatia (None, 23, 300)           0         \n",
      "_________________________________________________________________\n",
      "lstm_12 (LSTM)               (None, 258)               576888    \n",
      "_________________________________________________________________\n",
      "dense_121 (Dense)            (None, 2)                 518       \n",
      "=================================================================\n",
      "Total params: 3,076,406\n",
      "Trainable params: 577,406\n",
      "Non-trainable params: 2,499,000\n",
      "_________________________________________________________________\n",
      "None\n"
     ]
    }
   ],
   "source": [
    "# RNN -LSTM\n",
    "rnn = Sequential()\n",
    "rnn.add(Embedding(input_dim = vocab, output_dim = 300, input_length = 23, \n",
    "                embeddings_initializer = keras.initializers.Constant(pretrained_embedding),\n",
    "                trainable = False))\n",
    "\n",
    "rnn.add(SpatialDropout1D(0.5))\n",
    "rnn.add(LSTM(258, dropout=0.2, recurrent_dropout=0.2))\n",
    "\n",
    "rnn.add(Dense(2,activation='softmax'))\n",
    "rnn.compile(loss = 'categorical_crossentropy', optimizer=optimizer ,metrics = ['accuracy'])\n",
    "print(rnn.summary())"
   ]
  },
  {
   "cell_type": "code",
   "execution_count": 233,
   "metadata": {
    "scrolled": true
   },
   "outputs": [
    {
     "name": "stdout",
     "output_type": "stream",
     "text": [
      "Epoch 1/20\n",
      "28/28 [==============================] - 6s 156ms/step - loss: 0.6558 - accuracy: 0.6245 - val_loss: 0.6423 - val_accuracy: 0.6315\n",
      "Epoch 2/20\n",
      "28/28 [==============================] - 4s 147ms/step - loss: 0.6275 - accuracy: 0.6597 - val_loss: 0.6289 - val_accuracy: 0.6484\n",
      "Epoch 3/20\n",
      "28/28 [==============================] - 4s 148ms/step - loss: 0.6111 - accuracy: 0.6711 - val_loss: 0.6212 - val_accuracy: 0.6576\n",
      "Epoch 4/20\n",
      "28/28 [==============================] - 4s 148ms/step - loss: 0.6057 - accuracy: 0.6790 - val_loss: 0.6168 - val_accuracy: 0.6615\n",
      "Epoch 5/20\n",
      "28/28 [==============================] - 4s 146ms/step - loss: 0.5952 - accuracy: 0.6915 - val_loss: 0.6117 - val_accuracy: 0.6628\n",
      "Epoch 6/20\n",
      "28/28 [==============================] - 4s 148ms/step - loss: 0.5911 - accuracy: 0.6834 - val_loss: 0.6099 - val_accuracy: 0.6680\n",
      "Epoch 7/20\n",
      "28/28 [==============================] - 4s 157ms/step - loss: 0.5935 - accuracy: 0.6946 - val_loss: 0.6094 - val_accuracy: 0.6693\n",
      "Epoch 8/20\n",
      "28/28 [==============================] - 4s 148ms/step - loss: 0.5837 - accuracy: 0.6965 - val_loss: 0.6081 - val_accuracy: 0.6745\n",
      "Epoch 9/20\n",
      "28/28 [==============================] - 4s 152ms/step - loss: 0.5815 - accuracy: 0.7004 - val_loss: 0.6050 - val_accuracy: 0.6719\n",
      "Epoch 10/20\n",
      "28/28 [==============================] - 4s 150ms/step - loss: 0.5677 - accuracy: 0.7094 - val_loss: 0.6011 - val_accuracy: 0.6836\n",
      "Epoch 11/20\n",
      "28/28 [==============================] - 4s 148ms/step - loss: 0.5703 - accuracy: 0.7138 - val_loss: 0.5989 - val_accuracy: 0.6836\n",
      "Epoch 12/20\n",
      "28/28 [==============================] - 4s 148ms/step - loss: 0.5694 - accuracy: 0.7130 - val_loss: 0.5994 - val_accuracy: 0.6836\n",
      "Epoch 13/20\n",
      "28/28 [==============================] - 4s 157ms/step - loss: 0.5578 - accuracy: 0.7183 - val_loss: 0.5991 - val_accuracy: 0.6797\n",
      "Epoch 14/20\n",
      "28/28 [==============================] - 5s 164ms/step - loss: 0.5593 - accuracy: 0.7183 - val_loss: 0.5994 - val_accuracy: 0.6836\n",
      "Epoch 15/20\n",
      "28/28 [==============================] - 5s 177ms/step - loss: 0.5499 - accuracy: 0.7217 - val_loss: 0.6066 - val_accuracy: 0.6875\n",
      "Epoch 16/20\n",
      "28/28 [==============================] - 4s 151ms/step - loss: 0.5594 - accuracy: 0.7152 - val_loss: 0.6118 - val_accuracy: 0.6836\n",
      "Epoch 17/20\n",
      "28/28 [==============================] - 4s 150ms/step - loss: 0.5507 - accuracy: 0.7217 - val_loss: 0.6009 - val_accuracy: 0.6732\n",
      "Epoch 18/20\n",
      "28/28 [==============================] - 4s 152ms/step - loss: 0.5499 - accuracy: 0.7261 - val_loss: 0.6036 - val_accuracy: 0.6771\n",
      "Epoch 19/20\n",
      "28/28 [==============================] - 4s 151ms/step - loss: 0.5518 - accuracy: 0.7219 - val_loss: 0.6131 - val_accuracy: 0.6836\n",
      "Epoch 20/20\n",
      "28/28 [==============================] - 4s 154ms/step - loss: 0.5469 - accuracy: 0.7292 - val_loss: 0.6005 - val_accuracy: 0.6797\n"
     ]
    }
   ],
   "source": [
    "history = rnn.fit(X_train, y_train, epochs = 20, batch_size = batch_size, verbose = 1, validation_data = (X_valid, y_valid))"
   ]
  },
  {
   "cell_type": "markdown",
   "metadata": {},
   "source": [
    "#### Validation loss is fluctuating at certain point, it might reached local minimum, regularization required"
   ]
  },
  {
   "cell_type": "code",
   "execution_count": 312,
   "metadata": {},
   "outputs": [
    {
     "name": "stdout",
     "output_type": "stream",
     "text": [
      "Model: \"sequential_86\"\n",
      "_________________________________________________________________\n",
      "Layer (type)                 Output Shape              Param #   \n",
      "=================================================================\n",
      "embedding_64 (Embedding)     (None, 23, 300)           2499000   \n",
      "_________________________________________________________________\n",
      "spatial_dropout1d_43 (Spatia (None, 23, 300)           0         \n",
      "_________________________________________________________________\n",
      "lstm_60 (LSTM)               (None, 258)               576888    \n",
      "_________________________________________________________________\n",
      "dense_175 (Dense)            (None, 32)                8288      \n",
      "_________________________________________________________________\n",
      "dropout_63 (Dropout)         (None, 32)                0         \n",
      "_________________________________________________________________\n",
      "dense_176 (Dense)            (None, 2)                 66        \n",
      "=================================================================\n",
      "Total params: 3,084,242\n",
      "Trainable params: 585,242\n",
      "Non-trainable params: 2,499,000\n",
      "_________________________________________________________________\n",
      "None\n"
     ]
    }
   ],
   "source": [
    "#Adding Regularization L1 L2 \n",
    "rnn = Sequential()\n",
    "rnn.add(Embedding(input_dim = vocab, output_dim = 300, input_length = 23, \n",
    "                embeddings_initializer = keras.initializers.Constant(pretrained_embedding),\n",
    "                trainable = False))\n",
    "\n",
    "rnn.add(SpatialDropout1D(0.5))\n",
    "rnn.add(LSTM(258, dropout=0.2, recurrent_dropout=0.2))\n",
    "rnn.add(Dense(32, activation = 'relu',kernel_regularizer=regularizers.l1_l2(l1 = 0.01, l2 = 0.01)))\n",
    "rnn.add(Dropout(0.5))\n",
    "rnn.add(Dense(2,activation='softmax'))\n",
    "rnn.compile(loss = 'categorical_crossentropy', optimizer='adam' ,metrics = ['accuracy'])\n",
    "print(rnn.summary())"
   ]
  },
  {
   "cell_type": "code",
   "execution_count": 239,
   "metadata": {
    "scrolled": true
   },
   "outputs": [
    {
     "name": "stdout",
     "output_type": "stream",
     "text": [
      "Epoch 1/20\n",
      "28/28 [==============================] - 6s 168ms/step - loss: 5.9741 - accuracy: 0.6150 - val_loss: 4.8065 - val_accuracy: 0.6263\n",
      "Epoch 2/20\n",
      "28/28 [==============================] - 4s 148ms/step - loss: 3.9123 - accuracy: 0.6474 - val_loss: 3.0373 - val_accuracy: 0.6576\n",
      "Epoch 3/20\n",
      "28/28 [==============================] - 4s 148ms/step - loss: 2.4031 - accuracy: 0.6575 - val_loss: 1.8028 - val_accuracy: 0.6576\n",
      "Epoch 4/20\n",
      "28/28 [==============================] - 5s 164ms/step - loss: 1.4067 - accuracy: 0.6675 - val_loss: 1.0492 - val_accuracy: 0.6562\n",
      "Epoch 5/20\n",
      "28/28 [==============================] - 5s 173ms/step - loss: 0.8596 - accuracy: 0.6669 - val_loss: 0.7185 - val_accuracy: 0.6471\n",
      "Epoch 6/20\n",
      "28/28 [==============================] - 4s 145ms/step - loss: 0.6837 - accuracy: 0.6365 - val_loss: 0.6728 - val_accuracy: 0.6289\n",
      "Epoch 7/20\n",
      "28/28 [==============================] - 4s 147ms/step - loss: 0.6610 - accuracy: 0.6488 - val_loss: 0.6630 - val_accuracy: 0.6510\n",
      "Epoch 8/20\n",
      "28/28 [==============================] - 4s 147ms/step - loss: 0.6574 - accuracy: 0.6572 - val_loss: 0.6660 - val_accuracy: 0.6667\n",
      "Epoch 9/20\n",
      "28/28 [==============================] - 4s 149ms/step - loss: 0.6561 - accuracy: 0.6664 - val_loss: 0.6630 - val_accuracy: 0.6510\n",
      "Epoch 10/20\n",
      "28/28 [==============================] - 5s 170ms/step - loss: 0.6501 - accuracy: 0.6829 - val_loss: 0.6576 - val_accuracy: 0.6719\n",
      "Epoch 11/20\n",
      "28/28 [==============================] - 4s 157ms/step - loss: 0.6409 - accuracy: 0.6910 - val_loss: 0.6524 - val_accuracy: 0.6732\n",
      "Epoch 12/20\n",
      "28/28 [==============================] - 4s 156ms/step - loss: 0.6377 - accuracy: 0.6915 - val_loss: 0.6508 - val_accuracy: 0.6719\n",
      "Epoch 13/20\n",
      "28/28 [==============================] - 5s 178ms/step - loss: 0.6350 - accuracy: 0.7041 - val_loss: 0.6534 - val_accuracy: 0.6771\n",
      "Epoch 14/20\n",
      "28/28 [==============================] - 5s 180ms/step - loss: 0.6275 - accuracy: 0.7046 - val_loss: 0.6608 - val_accuracy: 0.6875\n",
      "Epoch 15/20\n",
      "28/28 [==============================] - 6s 217ms/step - loss: 0.6309 - accuracy: 0.7133 - val_loss: 0.6573 - val_accuracy: 0.6732\n",
      "Epoch 16/20\n",
      "28/28 [==============================] - 6s 208ms/step - loss: 0.6141 - accuracy: 0.7094 - val_loss: 0.6457 - val_accuracy: 0.6758\n",
      "Epoch 17/20\n",
      "28/28 [==============================] - 5s 168ms/step - loss: 0.6198 - accuracy: 0.7133 - val_loss: 0.6547 - val_accuracy: 0.6706\n",
      "Epoch 18/20\n",
      "28/28 [==============================] - 4s 158ms/step - loss: 0.6203 - accuracy: 0.7141 - val_loss: 0.6467 - val_accuracy: 0.6914\n",
      "Epoch 19/20\n",
      "28/28 [==============================] - 5s 181ms/step - loss: 0.6134 - accuracy: 0.7205 - val_loss: 0.6491 - val_accuracy: 0.6823\n",
      "Epoch 20/20\n",
      "28/28 [==============================] - 4s 156ms/step - loss: 0.6112 - accuracy: 0.7091 - val_loss: 0.6400 - val_accuracy: 0.6888\n"
     ]
    }
   ],
   "source": [
    "history = rnn.fit(X_train, y_train, epochs = 20, batch_size = batch_size, validation_data = (X_valid, y_valid))"
   ]
  },
  {
   "cell_type": "code",
   "execution_count": 244,
   "metadata": {},
   "outputs": [
    {
     "data": {
      "image/png": "[encoded data removed]",
      "text/plain": [
       "<Figure size 432x288 with 1 Axes>"
      ]
     },
     "metadata": {
      "needs_background": "light"
     },
     "output_type": "display_data"
    }
   ],
   "source": [
    "#Plot accuracy Curve\n",
    "plt.plot(history.history['accuracy'])\n",
    "plt.plot(history.history['val_accuracy'])\n",
    "plt.title('model accuracy')\n",
    "plt.ylabel('accuracy')\n",
    "plt.xlabel('epoch')\n",
    "plt.legend(['train', 'val'], loc='upper left')\n",
    "plt.show()\n"
   ]
  },
  {
   "cell_type": "code",
   "execution_count": 243,
   "metadata": {},
   "outputs": [
    {
     "data": {
      "image/png": "[encoded data removed]",
      "text/plain": [
       "<Figure size 432x288 with 1 Axes>"
      ]
     },
     "metadata": {
      "needs_background": "light"
     },
     "output_type": "display_data"
    }
   ],
   "source": [
    "#Plot Loss Curve\n",
    "plt.plot(history.history['loss'])\n",
    "plt.plot(history.history['val_loss'])\n",
    "plt.title('model loss')\n",
    "plt.ylabel('loss')\n",
    "plt.xlabel('epoch')\n",
    "plt.legend(['train', 'val'], loc='upper left')\n",
    "plt.show()"
   ]
  },
  {
   "cell_type": "code",
   "execution_count": 248,
   "metadata": {},
   "outputs": [
    {
     "name": "stdout",
     "output_type": "stream",
     "text": [
      "model loss0.6169412136077881, model accuracy 0.7057291865348816\n"
     ]
    }
   ],
   "source": [
    "print('model loss {}, model accuracy {}'.format(rnn.evaluate(X_test, y_test, verbose =0)[0], rnn.evaluate(X_test, y_test, verbose = 0)[1]))"
   ]
  },
  {
   "cell_type": "markdown",
   "metadata": {},
   "source": [
    "### Based on the learning curve, the validation and training loss converges and accuracy increases as more iteration. "
   ]
  },
  {
   "cell_type": "code",
   "execution_count": 304,
   "metadata": {},
   "outputs": [
    {
     "name": "stdout",
     "output_type": "stream",
     "text": [
      "Model: \"sequential_82\"\n",
      "_________________________________________________________________\n",
      "Layer (type)                 Output Shape              Param #   \n",
      "=================================================================\n",
      "embedding_61 (Embedding)     (None, 23, 300)           2499000   \n",
      "_________________________________________________________________\n",
      "bidirectional_43 (Bidirectio (None, 23, 64)            85248     \n",
      "_________________________________________________________________\n",
      "spatial_dropout1d_42 (Spatia (None, 23, 64)            0         \n",
      "_________________________________________________________________\n",
      "bidirectional_44 (Bidirectio (None, 32)                10368     \n",
      "_________________________________________________________________\n",
      "dropout_62 (Dropout)         (None, 32)                0         \n",
      "_________________________________________________________________\n",
      "dense_169 (Dense)            (None, 64)                2112      \n",
      "_________________________________________________________________\n",
      "dense_170 (Dense)            (None, 2)                 130       \n",
      "=================================================================\n",
      "Total params: 2,596,858\n",
      "Trainable params: 97,858\n",
      "Non-trainable params: 2,499,000\n",
      "_________________________________________________________________\n",
      "None\n"
     ]
    }
   ],
   "source": [
    "# Bidirectional RNN \n",
    "brnn = Sequential()\n",
    "brnn.add(Embedding(input_dim = vocab, output_dim = 300, input_length = 23, \n",
    "                embeddings_initializer = keras.initializers.Constant(pretrained_embedding),\n",
    "                trainable = False))\n",
    "\n",
    "brnn.add(Bidirectional(LSTM(32, return_sequences=True)))\n",
    "brnn.add(SpatialDropout1D(0.4))\n",
    "brnn.add(Bidirectional(LSTM(16)))\n",
    "brnn.add(Dropout(0.4))\n",
    "brnn.add(Dense(64, activation='relu', kernel_regularizer=regularizers.l1_l2(l1 = 0.01, l2 = 0.01)))\n",
    "brnn.add(Dense(2, activation='sigmoid'))\n",
    "\n",
    "print(brnn.summary())\n",
    "brnn.compile(loss = 'binary_crossentropy', optimizer = 'adam' , metrics = ['accuracy'])"
   ]
  },
  {
   "cell_type": "code",
   "execution_count": 305,
   "metadata": {
    "scrolled": true
   },
   "outputs": [
    {
     "name": "stdout",
     "output_type": "stream",
     "text": [
      "Epoch 1/20\n",
      "28/28 [==============================] - 7s 110ms/step - loss: 3.3558 - accuracy: 0.6340 - val_loss: 3.0002 - val_accuracy: 0.6419\n",
      "Epoch 2/20\n",
      "28/28 [==============================] - 1s 37ms/step - loss: 2.7149 - accuracy: 0.6329 - val_loss: 2.4162 - val_accuracy: 0.6419\n",
      "Epoch 3/20\n",
      "28/28 [==============================] - 1s 35ms/step - loss: 2.1682 - accuracy: 0.6329 - val_loss: 1.9151 - val_accuracy: 0.6432\n",
      "Epoch 4/20\n",
      "28/28 [==============================] - 1s 35ms/step - loss: 1.7073 - accuracy: 0.6614 - val_loss: 1.5161 - val_accuracy: 0.6966\n",
      "Epoch 5/20\n",
      "28/28 [==============================] - 1s 36ms/step - loss: 1.3482 - accuracy: 0.7102 - val_loss: 1.2072 - val_accuracy: 0.6914\n",
      "Epoch 6/20\n",
      "28/28 [==============================] - 1s 36ms/step - loss: 1.0587 - accuracy: 0.7278 - val_loss: 0.9865 - val_accuracy: 0.6927\n",
      "Epoch 7/20\n",
      "28/28 [==============================] - 1s 37ms/step - loss: 0.8547 - accuracy: 0.7379 - val_loss: 0.8296 - val_accuracy: 0.6927\n",
      "Epoch 8/20\n",
      "28/28 [==============================] - 1s 35ms/step - loss: 0.7042 - accuracy: 0.7501 - val_loss: 0.7080 - val_accuracy: 0.6797\n",
      "Epoch 9/20\n",
      "28/28 [==============================] - 1s 37ms/step - loss: 0.6118 - accuracy: 0.7686 - val_loss: 0.6595 - val_accuracy: 0.6628\n",
      "Epoch 10/20\n",
      "28/28 [==============================] - 1s 36ms/step - loss: 0.5837 - accuracy: 0.7677 - val_loss: 0.6608 - val_accuracy: 0.6953\n",
      "Epoch 11/20\n",
      "28/28 [==============================] - 1s 36ms/step - loss: 0.5600 - accuracy: 0.7912 - val_loss: 0.6488 - val_accuracy: 0.6680\n",
      "Epoch 12/20\n",
      "28/28 [==============================] - 1s 36ms/step - loss: 0.5404 - accuracy: 0.7976 - val_loss: 0.6561 - val_accuracy: 0.6641\n",
      "Epoch 13/20\n",
      "28/28 [==============================] - 1s 36ms/step - loss: 0.5279 - accuracy: 0.8015 - val_loss: 0.6659 - val_accuracy: 0.6706\n",
      "Epoch 14/20\n",
      "28/28 [==============================] - 1s 36ms/step - loss: 0.5095 - accuracy: 0.8157 - val_loss: 0.6584 - val_accuracy: 0.6836\n",
      "Epoch 15/20\n",
      "28/28 [==============================] - 1s 36ms/step - loss: 0.5047 - accuracy: 0.8143 - val_loss: 0.6703 - val_accuracy: 0.6953\n",
      "Epoch 16/20\n",
      "28/28 [==============================] - 1s 36ms/step - loss: 0.4991 - accuracy: 0.8180 - val_loss: 0.6579 - val_accuracy: 0.6758\n",
      "Epoch 17/20\n",
      "28/28 [==============================] - 1s 37ms/step - loss: 0.4841 - accuracy: 0.8258 - val_loss: 0.6686 - val_accuracy: 0.6667\n",
      "Epoch 18/20\n",
      "28/28 [==============================] - 1s 36ms/step - loss: 0.4814 - accuracy: 0.8258 - val_loss: 0.6941 - val_accuracy: 0.6562\n",
      "Epoch 19/20\n",
      "28/28 [==============================] - 1s 36ms/step - loss: 0.4746 - accuracy: 0.8294 - val_loss: 0.6680 - val_accuracy: 0.6979\n",
      "Epoch 20/20\n",
      "28/28 [==============================] - 1s 39ms/step - loss: 0.4687 - accuracy: 0.8305 - val_loss: 0.6884 - val_accuracy: 0.6862\n"
     ]
    },
    {
     "data": {
      "text/plain": [
       "<keras.callbacks.History at 0x7f84eea606a0>"
      ]
     },
     "execution_count": 305,
     "metadata": {},
     "output_type": "execute_result"
    }
   ],
   "source": [
    "brnn.fit(X_train, y_train, epochs = 20, batch_size = batch_size, validation_data = (X_test, y_test))"
   ]
  },
  {
   "cell_type": "code",
   "execution_count": 310,
   "metadata": {},
   "outputs": [
    {
     "name": "stdout",
     "output_type": "stream",
     "text": [
      "Model: \"sequential_85\"\n",
      "_________________________________________________________________\n",
      "Layer (type)                 Output Shape              Param #   \n",
      "=================================================================\n",
      "embedding_63 (Embedding)     (None, 23, 300)           2499000   \n",
      "_________________________________________________________________\n",
      "conv1d_1 (Conv1D)            (None, 16, 32)            76832     \n",
      "_________________________________________________________________\n",
      "max_pooling1d_1 (MaxPooling1 (None, 8, 32)             0         \n",
      "_________________________________________________________________\n",
      "flatten_23 (Flatten)         (None, 256)               0         \n",
      "_________________________________________________________________\n",
      "dense_173 (Dense)            (None, 10)                2570      \n",
      "_________________________________________________________________\n",
      "dense_174 (Dense)            (None, 2)                 22        \n",
      "=================================================================\n",
      "Total params: 2,578,424\n",
      "Trainable params: 79,424\n",
      "Non-trainable params: 2,499,000\n",
      "_________________________________________________________________\n",
      "None\n"
     ]
    }
   ],
   "source": [
    "#Convolutional Layer\n",
    "cnn = Sequential()\n",
    "cnn.add(Embedding(input_dim = vocab, output_dim = 300, input_length = 23, \n",
    "                embeddings_initializer = keras.initializers.Constant(pretrained_embedding),\n",
    "                trainable = False))\n",
    "\n",
    "cnn.add(Conv1D(filters=32, kernel_size=8, activation='relu'))\n",
    "cnn.add(MaxPooling1D(pool_size=2))\n",
    "cnn.add(Flatten())\n",
    "cnn.add(Dense(10, activation='relu'))\n",
    "cnn.add(Dense(2, activation='sigmoid'))\n",
    "print(cnn.summary())\n",
    "\n",
    "cnn.compile(loss = 'categorical_crossentropy', optimizer = 'adam' , metrics = ['accuracy'])"
   ]
  },
  {
   "cell_type": "code",
   "execution_count": 311,
   "metadata": {
    "scrolled": true
   },
   "outputs": [
    {
     "name": "stdout",
     "output_type": "stream",
     "text": [
      "Epoch 1/20\n",
      "28/28 [==============================] - 1s 15ms/step - loss: 0.6566 - accuracy: 0.6265 - val_loss: 0.6274 - val_accuracy: 0.6471\n",
      "Epoch 2/20\n",
      "28/28 [==============================] - 0s 12ms/step - loss: 0.5838 - accuracy: 0.6935 - val_loss: 0.6079 - val_accuracy: 0.6758\n",
      "Epoch 3/20\n",
      "28/28 [==============================] - 0s 12ms/step - loss: 0.4894 - accuracy: 0.7775 - val_loss: 0.6008 - val_accuracy: 0.7057\n",
      "Epoch 4/20\n",
      "28/28 [==============================] - 0s 12ms/step - loss: 0.3627 - accuracy: 0.8565 - val_loss: 0.6151 - val_accuracy: 0.7018\n",
      "Epoch 5/20\n",
      "28/28 [==============================] - 0s 12ms/step - loss: 0.2464 - accuracy: 0.9249 - val_loss: 0.6697 - val_accuracy: 0.6862\n",
      "Epoch 6/20\n",
      "28/28 [==============================] - 0s 11ms/step - loss: 0.1557 - accuracy: 0.9637 - val_loss: 0.7409 - val_accuracy: 0.7083\n",
      "Epoch 7/20\n",
      "28/28 [==============================] - 0s 11ms/step - loss: 0.0945 - accuracy: 0.9821 - val_loss: 0.8139 - val_accuracy: 0.6797\n",
      "Epoch 8/20\n",
      "28/28 [==============================] - 0s 11ms/step - loss: 0.0583 - accuracy: 0.9933 - val_loss: 0.8832 - val_accuracy: 0.6901\n",
      "Epoch 9/20\n",
      "28/28 [==============================] - 0s 11ms/step - loss: 0.0372 - accuracy: 0.9961 - val_loss: 0.9522 - val_accuracy: 0.6966\n",
      "Epoch 10/20\n",
      "28/28 [==============================] - 0s 11ms/step - loss: 0.0245 - accuracy: 0.9989 - val_loss: 1.0064 - val_accuracy: 0.6797\n",
      "Epoch 11/20\n",
      "28/28 [==============================] - 0s 11ms/step - loss: 0.0186 - accuracy: 0.9997 - val_loss: 1.0668 - val_accuracy: 0.6810\n",
      "Epoch 12/20\n",
      "28/28 [==============================] - 0s 11ms/step - loss: 0.0118 - accuracy: 0.9997 - val_loss: 1.1107 - val_accuracy: 0.6888\n",
      "Epoch 13/20\n",
      "28/28 [==============================] - 0s 12ms/step - loss: 0.0119 - accuracy: 0.9997 - val_loss: 1.1561 - val_accuracy: 0.6888\n",
      "Epoch 14/20\n",
      "28/28 [==============================] - 0s 11ms/step - loss: 0.0070 - accuracy: 1.0000 - val_loss: 1.1900 - val_accuracy: 0.6784\n",
      "Epoch 15/20\n",
      "28/28 [==============================] - 0s 11ms/step - loss: 0.0092 - accuracy: 0.9994 - val_loss: 1.2223 - val_accuracy: 0.6914\n",
      "Epoch 16/20\n",
      "28/28 [==============================] - 0s 11ms/step - loss: 0.0070 - accuracy: 0.9997 - val_loss: 1.2545 - val_accuracy: 0.6758\n",
      "Epoch 17/20\n",
      "28/28 [==============================] - 0s 12ms/step - loss: 0.0052 - accuracy: 0.9997 - val_loss: 1.2958 - val_accuracy: 0.6901\n",
      "Epoch 18/20\n",
      "28/28 [==============================] - 0s 11ms/step - loss: 0.0074 - accuracy: 0.9997 - val_loss: 1.3017 - val_accuracy: 0.6888\n",
      "Epoch 19/20\n",
      "28/28 [==============================] - 0s 12ms/step - loss: 0.0058 - accuracy: 0.9997 - val_loss: 1.3265 - val_accuracy: 0.6862\n",
      "Epoch 20/20\n",
      "28/28 [==============================] - 0s 11ms/step - loss: 0.0038 - accuracy: 0.9997 - val_loss: 1.3588 - val_accuracy: 0.6901\n"
     ]
    },
    {
     "data": {
      "text/plain": [
       "<keras.callbacks.History at 0x7f85163bbcd0>"
      ]
     },
     "execution_count": 311,
     "metadata": {},
     "output_type": "execute_result"
    }
   ],
   "source": [
    "cnn.fit(X_train, y_train, epochs = 20, batch_size = batch_size, validation_data = (X_test, y_test))"
   ]
  },
  {
   "cell_type": "markdown",
   "metadata": {},
   "source": [
    "## Conclusion\n",
    "- It seems like many of the models are overfitting due to the environment of neural network, we have tried many regularization techniques such as Dropout layers (Default and Spatial) L1 and L2 regularization, alternating learning rate and scheduling learning rate (Exponential Decay at certain point). \n",
    "- Performance of LSTM worked the best and with the least model complexity"
   ]
  },
  {
   "cell_type": "code",
   "execution_count": null,
   "metadata": {},
   "outputs": [],
   "source": []
  }
 ],
 "metadata": {
  "kernelspec": {
   "display_name": "Python 3",
   "language": "python",
   "name": "python3"
  },
  "language_info": {
   "codemirror_mode": {
    "name": "ipython",
    "version": 3
   },
   "file_extension": ".py",
   "mimetype": "text/x-python",
   "name": "python",
   "nbconvert_exporter": "python",
   "pygments_lexer": "ipython3",
   "version": "3.8.3"
  }
 },
 "nbformat": 4,
 "nbformat_minor": 4
}
