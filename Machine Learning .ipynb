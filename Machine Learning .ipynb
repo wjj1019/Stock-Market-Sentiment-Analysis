{
 "cells": [
  {
   "cell_type": "code",
   "execution_count": 10,
   "metadata": {},
   "outputs": [
    {
     "name": "stderr",
     "output_type": "stream",
     "text": [
      "[nltk_data] Downloading package stopwords to\n",
      "[nltk_data]     /Users/woojaejo/nltk_data...\n",
      "[nltk_data]   Package stopwords is already up-to-date!\n"
     ]
    }
   ],
   "source": [
    "import numpy as np\n",
    "import pandas as pd\n",
    "import matplotlib.pyplot as plt\n",
    "import seaborn as sns\n",
    "\n",
    "import plotly.express as px\n",
    "import plotly.graph_objects as go\n",
    "from plotly.subplots import make_subplots\n",
    "from bs4 import BeautifulSoup\n",
    "import requests\n",
    "import math\n",
    "from urllib.request import urlopen, Request\n",
    "from sklearn.model_selection import train_test_split\n",
    "\n",
    "import math \n",
    "import numpy as np \n",
    "import pandas as pd \n",
    "import matplotlib.pyplot as plt \n",
    "import matplotlib\n",
    "\n",
    "from sklearn.pipeline import Pipeline\n",
    "from sklearn.feature_extraction.text import TfidfTransformer\n",
    "from sklearn.metrics import classification_report, multilabel_confusion_matrix\n",
    "\n",
    "import seaborn as sns\n",
    "\n",
    "import numpy as np # linear algebra\n",
    "import pandas as pd # data processing, CSV file I/O (e.g. pd.read_csv)\n",
    "\n",
    "from keras.preprocessing.text import Tokenizer\n",
    "from keras.preprocessing.sequence import pad_sequences\n",
    "from keras.models import Sequential\n",
    "from keras.layers import Dense, Embedding, LSTM, SpatialDropout1D\n",
    "from sklearn.model_selection import train_test_split\n",
    "from keras.utils.np_utils import to_categorical\n",
    "import re\n",
    "\n",
    "import nltk\n",
    "from nltk.corpus import stopwords\n",
    "nltk.download('stopwords')\n",
    "import tensorflow as tf\n",
    "\n",
    "from sklearn.feature_extraction.text import TfidfVectorizer\n",
    "from sklearn.feature_extraction.text import CountVectorizer\n",
    "from nltk.tokenize import RegexpTokenizer\n",
    "from sklearn.naive_bayes import MultinomialNB\n",
    "from sklearn.linear_model import LogisticRegression\n",
    "from sklearn import metrics\n",
    "from keras.layers import Dense, Input, LSTM, GRU, Conv1D, MaxPooling1D, Concatenate, Dropout, Flatten\n",
    "import string\n",
    "from nltk.stem import PorterStemmer\n",
    "from nltk.stem import WordNetLemmatizer\n",
    "from nltk.corpus import stopwords\n",
    "\n",
    "from nltk.sentiment.vader import SentimentIntensityAnalyzer\n",
    "from tensorflow import keras\n",
    "from gensim.models import KeyedVectors\n",
    "from gensim import models\n",
    "\n",
    "# Library import \n",
    "from sklearn.linear_model import LogisticRegression\n",
    "from sklearn.svm import LinearSVC\n",
    "from sklearn.ensemble import RandomForestClassifier, AdaBoostClassifier, GradientBoostingClassifier\n",
    "from sklearn.naive_bayes import MultinomialNB\n",
    "import xgboost as xgb\n",
    "from sklearn.model_selection import cross_val_score\n",
    "from sklearn.metrics import roc_curve\n",
    "from sklearn.metrics import roc_auc_score\n",
    "from matplotlib import pyplot\n",
    "import sklearn.naive_bayes\n",
    "from sklearn.model_selection import KFold, ShuffleSplit\n",
    "from sklearn.pipeline import Pipeline\n",
    "import warnings\n",
    "warnings.filterwarnings('ignore')\n",
    "\n",
    "from imblearn.over_sampling import RandomOverSampler, SMOTE\n",
    "from imblearn.under_sampling import RandomUnderSampler\n",
    "from imblearn.pipeline import Pipeline"
   ]
  },
  {
   "cell_type": "code",
   "execution_count": 127,
   "metadata": {},
   "outputs": [],
   "source": [
    "df = pd.read_csv('processed.csv')\n",
    "df.drop(columns=['Unnamed: 0'], inplace=True)"
   ]
  },
  {
   "cell_type": "code",
   "execution_count": 128,
   "metadata": {},
   "outputs": [
    {
     "data": {
      "text/html": [
       "<div>\n",
       "<style scoped>\n",
       "    .dataframe tbody tr th:only-of-type {\n",
       "        vertical-align: middle;\n",
       "    }\n",
       "\n",
       "    .dataframe tbody tr th {\n",
       "        vertical-align: top;\n",
       "    }\n",
       "\n",
       "    .dataframe thead th {\n",
       "        text-align: right;\n",
       "    }\n",
       "</style>\n",
       "<table border=\"1\" class=\"dataframe\">\n",
       "  <thead>\n",
       "    <tr style=\"text-align: right;\">\n",
       "      <th></th>\n",
       "      <th>Text</th>\n",
       "      <th>Sentiment</th>\n",
       "    </tr>\n",
       "  </thead>\n",
       "  <tbody>\n",
       "    <tr>\n",
       "      <th>0</th>\n",
       "      <td>kickers watchlist xide tit soq pnk cpw bpz aj ...</td>\n",
       "      <td>1</td>\n",
       "    </tr>\n",
       "    <tr>\n",
       "      <th>1</th>\n",
       "      <td>user aap movie return fea geed indicator trade...</td>\n",
       "      <td>1</td>\n",
       "    </tr>\n",
       "    <tr>\n",
       "      <th>2</th>\n",
       "      <td>user afraid short amzn looking like near monop...</td>\n",
       "      <td>1</td>\n",
       "    </tr>\n",
       "    <tr>\n",
       "      <th>3</th>\n",
       "      <td>aap user current downtrend break otherwise sho...</td>\n",
       "      <td>-1</td>\n",
       "    </tr>\n",
       "    <tr>\n",
       "      <th>4</th>\n",
       "      <td>monday relative weakness nyx win tie tap ice i...</td>\n",
       "      <td>-1</td>\n",
       "    </tr>\n",
       "    <tr>\n",
       "      <th>...</th>\n",
       "      <td>...</td>\n",
       "      <td>...</td>\n",
       "    </tr>\n",
       "    <tr>\n",
       "      <th>5113</th>\n",
       "      <td>industry body cii said discoms likely suffer n...</td>\n",
       "      <td>-1</td>\n",
       "    </tr>\n",
       "    <tr>\n",
       "      <th>5114</th>\n",
       "      <td>gold prices slip rs investors book profits ami...</td>\n",
       "      <td>-1</td>\n",
       "    </tr>\n",
       "    <tr>\n",
       "      <th>5115</th>\n",
       "      <td>workers bajaj auto agreed wage cut period apri...</td>\n",
       "      <td>1</td>\n",
       "    </tr>\n",
       "    <tr>\n",
       "      <th>5116</th>\n",
       "      <td>sharemarket live sensex day high points nifty ...</td>\n",
       "      <td>1</td>\n",
       "    </tr>\n",
       "    <tr>\n",
       "      <th>5117</th>\n",
       "      <td>sensex nifty climb day highs still key factors...</td>\n",
       "      <td>1</td>\n",
       "    </tr>\n",
       "  </tbody>\n",
       "</table>\n",
       "<p>5118 rows × 2 columns</p>\n",
       "</div>"
      ],
      "text/plain": [
       "                                                   Text  Sentiment\n",
       "0     kickers watchlist xide tit soq pnk cpw bpz aj ...          1\n",
       "1     user aap movie return fea geed indicator trade...          1\n",
       "2     user afraid short amzn looking like near monop...          1\n",
       "3     aap user current downtrend break otherwise sho...         -1\n",
       "4     monday relative weakness nyx win tie tap ice i...         -1\n",
       "...                                                 ...        ...\n",
       "5113  industry body cii said discoms likely suffer n...         -1\n",
       "5114  gold prices slip rs investors book profits ami...         -1\n",
       "5115  workers bajaj auto agreed wage cut period apri...          1\n",
       "5116  sharemarket live sensex day high points nifty ...          1\n",
       "5117  sensex nifty climb day highs still key factors...          1\n",
       "\n",
       "[5118 rows x 2 columns]"
      ]
     },
     "execution_count": 128,
     "metadata": {},
     "output_type": "execute_result"
    }
   ],
   "source": [
    "df"
   ]
  },
  {
   "cell_type": "markdown",
   "metadata": {},
   "source": [
    "## Text Vectorizer"
   ]
  },
  {
   "cell_type": "code",
   "execution_count": 160,
   "metadata": {},
   "outputs": [],
   "source": [
    "X = df['Text']\n",
    "y = df['Sentiment']"
   ]
  },
  {
   "cell_type": "code",
   "execution_count": 130,
   "metadata": {},
   "outputs": [],
   "source": [
    "# ML model Training with given vectorized method\n",
    "def model_train(classifier, X_train, y_train, X_test, y_test):\n",
    "\n",
    "    #Training the model with training data sets\n",
    "    classifier.fit(X_train, y_train)\n",
    "    \n",
    "    #predict the model with Test dataset\n",
    "    predictions = classifier.predict(X_test)\n",
    "    \n",
    "    print(classification_report(y_test, predictions))\n",
    "    return metrics.accuracy_score(y_test, predictions)"
   ]
  },
  {
   "cell_type": "code",
   "execution_count": 131,
   "metadata": {},
   "outputs": [],
   "source": [
    "# Vectorizing Text and train the model\n",
    "def vectorizing_methods_ml(method, model,  X, y):\n",
    "    vectorizer = method\n",
    "    vector = vectorizer.fit_transform(X).toarray()\n",
    "    \n",
    "    X_train, X_test, y_train, y_test = train_test_split(vector, y, test_size=0.25, random_state=42)    \n",
    "    \n",
    "    return model_train (model, X_train, y_train, X_test, y_test)"
   ]
  },
  {
   "cell_type": "code",
   "execution_count": 132,
   "metadata": {},
   "outputs": [],
   "source": [
    "# Vectorizing the Text and split the data\n",
    "def imb_ml(method, model,X , y):\n",
    "    #Text Vectorizing Methods (BOW , TFIDF)\n",
    "    vectorizer = method\n",
    "    vector = vectorizer.fit_transform(X).toarray() \n",
    "    \n",
    "    X_train, X_test, y_train, y_test = train_test_split(vector, y, test_size=0.25, random_state=42)    \n",
    "    \n",
    "    #Imbalanced Dataset Control\n",
    "    over = SMOTE()\n",
    "    under = RandomUnderSampler()\n",
    "    \n",
    "    #Pipeline Creation\n",
    "    steps = [('o', over),  ('m', model)]\n",
    "    pipeline = Pipeline(steps=steps)\n",
    "    \n",
    "    pipeline.fit(X_train,y_train)\n",
    "    predictions = pipeline.predict(X_test)\n",
    "    \n",
    "    print(classification_report(y_test, predictions))\n",
    "    return metrics.accuracy_score(y_test, predictions)"
   ]
  },
  {
   "cell_type": "code",
   "execution_count": 133,
   "metadata": {},
   "outputs": [],
   "source": [
    "# Type of Vectorizing methods\n",
    "vectorizer = [(CountVectorizer(ngram_range=(1,1)), 'CV Unigram'),\n",
    "             (CountVectorizer(ngram_range=(2,2)), 'CV Bigram'),\n",
    "             (TfidfVectorizer(analyzer='word', ngram_range=(1,1)), 'TF-IDF Unigram'),\n",
    "             (TfidfVectorizer(analyzer='word', ngram_range=(2,2)), 'TF-IDF Bigram'), \n",
    "             (TfidfVectorizer(analyzer='char', ngram_range=(2,3)), 'TF-IDF, Bi-Trigram Character level')]"
   ]
  },
  {
   "cell_type": "markdown",
   "metadata": {},
   "source": [
    "## ML Modeling"
   ]
  },
  {
   "cell_type": "markdown",
   "metadata": {},
   "source": [
    "### Multinomial Naive Bayes"
   ]
  },
  {
   "cell_type": "code",
   "execution_count": 134,
   "metadata": {},
   "outputs": [
    {
     "name": "stdout",
     "output_type": "stream",
     "text": [
      "              precision    recall  f1-score   support\n",
      "\n",
      "          -1       0.68      0.64      0.66       465\n",
      "           1       0.80      0.83      0.81       815\n",
      "\n",
      "    accuracy                           0.76      1280\n",
      "   macro avg       0.74      0.73      0.74      1280\n",
      "weighted avg       0.76      0.76      0.76      1280\n",
      "\n",
      "Accuracy score of CV Unigram mehtod :0.759375\n",
      "              precision    recall  f1-score   support\n",
      "\n",
      "          -1       0.48      0.81      0.60       465\n",
      "           1       0.82      0.50      0.62       815\n",
      "\n",
      "    accuracy                           0.61      1280\n",
      "   macro avg       0.65      0.65      0.61      1280\n",
      "weighted avg       0.70      0.61      0.61      1280\n",
      "\n",
      "Accuracy score of CV Bigram mehtod :0.61015625\n",
      "              precision    recall  f1-score   support\n",
      "\n",
      "          -1       0.83      0.39      0.53       465\n",
      "           1       0.73      0.95      0.83       815\n",
      "\n",
      "    accuracy                           0.75      1280\n",
      "   macro avg       0.78      0.67      0.68      1280\n",
      "weighted avg       0.77      0.75      0.72      1280\n",
      "\n",
      "Accuracy score of TF-IDF Unigram mehtod :0.74921875\n",
      "              precision    recall  f1-score   support\n",
      "\n",
      "          -1       0.88      0.14      0.24       465\n",
      "           1       0.67      0.99      0.80       815\n",
      "\n",
      "    accuracy                           0.68      1280\n",
      "   macro avg       0.77      0.56      0.52      1280\n",
      "weighted avg       0.74      0.68      0.59      1280\n",
      "\n",
      "Accuracy score of TF-IDF Bigram mehtod :0.6796875\n",
      "              precision    recall  f1-score   support\n",
      "\n",
      "          -1       0.78      0.28      0.41       465\n",
      "           1       0.70      0.95      0.81       815\n",
      "\n",
      "    accuracy                           0.71      1280\n",
      "   macro avg       0.74      0.62      0.61      1280\n",
      "weighted avg       0.73      0.71      0.66      1280\n",
      "\n",
      "Accuracy score of TF-IDF, Bi-Trigram Character level mehtod :0.70859375\n"
     ]
    }
   ],
   "source": [
    "for method, name in vectorizer:\n",
    "    print('Accuracy score of {} mehtod :{}'.format(name, vectorizing_methods_ml(method, MultinomialNB(), X, y)))"
   ]
  },
  {
   "cell_type": "markdown",
   "metadata": {},
   "source": [
    "Naive Bayes with non-imbalance control -> CountVectorizer with Unigram"
   ]
  },
  {
   "cell_type": "code",
   "execution_count": 135,
   "metadata": {},
   "outputs": [
    {
     "name": "stdout",
     "output_type": "stream",
     "text": [
      "              precision    recall  f1-score   support\n",
      "\n",
      "          -1       0.64      0.70      0.67       465\n",
      "           1       0.82      0.78      0.80       815\n",
      "\n",
      "    accuracy                           0.75      1280\n",
      "   macro avg       0.73      0.74      0.74      1280\n",
      "weighted avg       0.76      0.75      0.75      1280\n",
      "\n",
      "Accuracy score of CV Unigram mehtod :0.75078125\n",
      "              precision    recall  f1-score   support\n",
      "\n",
      "          -1       0.45      0.91      0.60       465\n",
      "           1       0.87      0.37      0.52       815\n",
      "\n",
      "    accuracy                           0.56      1280\n",
      "   macro avg       0.66      0.64      0.56      1280\n",
      "weighted avg       0.72      0.56      0.55      1280\n",
      "\n",
      "Accuracy score of CV Bigram mehtod :0.5640625\n",
      "              precision    recall  f1-score   support\n",
      "\n",
      "          -1       0.62      0.71      0.66       465\n",
      "           1       0.82      0.75      0.79       815\n",
      "\n",
      "    accuracy                           0.74      1280\n",
      "   macro avg       0.72      0.73      0.72      1280\n",
      "weighted avg       0.75      0.74      0.74      1280\n",
      "\n",
      "Accuracy score of TF-IDF Unigram mehtod :0.73828125\n",
      "              precision    recall  f1-score   support\n",
      "\n",
      "          -1       0.62      0.58      0.60       465\n",
      "           1       0.77      0.80      0.79       815\n",
      "\n",
      "    accuracy                           0.72      1280\n",
      "   macro avg       0.70      0.69      0.69      1280\n",
      "weighted avg       0.72      0.72      0.72      1280\n",
      "\n",
      "Accuracy score of TF-IDF Bigram mehtod :0.72109375\n",
      "              precision    recall  f1-score   support\n",
      "\n",
      "          -1       0.61      0.71      0.65       465\n",
      "           1       0.82      0.73      0.77       815\n",
      "\n",
      "    accuracy                           0.73      1280\n",
      "   macro avg       0.71      0.72      0.71      1280\n",
      "weighted avg       0.74      0.73      0.73      1280\n",
      "\n",
      "Accuracy score of TF-IDF, Bi-Trigram Character level mehtod :0.7265625\n"
     ]
    }
   ],
   "source": [
    "for method, name in vectorizer:\n",
    "    print('Accuracy score of {} mehtod :{}'.format(name, imb_ml(method, MultinomialNB(), X, y)))"
   ]
  },
  {
   "cell_type": "markdown",
   "metadata": {},
   "source": [
    "Naive Bayes with Imbalance control (SMOTE -> Undersample) -> CountVecotirizer Unigram and Tfidf Unigram"
   ]
  },
  {
   "cell_type": "markdown",
   "metadata": {},
   "source": [
    "### Logistic Regression"
   ]
  },
  {
   "cell_type": "code",
   "execution_count": 136,
   "metadata": {
    "scrolled": false
   },
   "outputs": [
    {
     "name": "stdout",
     "output_type": "stream",
     "text": [
      "              precision    recall  f1-score   support\n",
      "\n",
      "          -1       0.70      0.72      0.71       465\n",
      "           1       0.84      0.82      0.83       815\n",
      "\n",
      "    accuracy                           0.78      1280\n",
      "   macro avg       0.77      0.77      0.77      1280\n",
      "weighted avg       0.79      0.78      0.78      1280\n",
      "\n",
      "Accuracy score of CV Unigram mehtod :0.78359375\n",
      "              precision    recall  f1-score   support\n",
      "\n",
      "          -1       0.69      0.42      0.52       465\n",
      "           1       0.73      0.89      0.80       815\n",
      "\n",
      "    accuracy                           0.72      1280\n",
      "   macro avg       0.71      0.66      0.66      1280\n",
      "weighted avg       0.71      0.72      0.70      1280\n",
      "\n",
      "Accuracy score of CV Bigram mehtod :0.7203125\n",
      "              precision    recall  f1-score   support\n",
      "\n",
      "          -1       0.68      0.71      0.70       465\n",
      "           1       0.83      0.81      0.82       815\n",
      "\n",
      "    accuracy                           0.78      1280\n",
      "   macro avg       0.76      0.76      0.76      1280\n",
      "weighted avg       0.78      0.78      0.78      1280\n",
      "\n",
      "Accuracy score of TF-IDF Unigram mehtod :0.77578125\n",
      "              precision    recall  f1-score   support\n",
      "\n",
      "          -1       0.69      0.40      0.50       465\n",
      "           1       0.72      0.90      0.80       815\n",
      "\n",
      "    accuracy                           0.72      1280\n",
      "   macro avg       0.71      0.65      0.65      1280\n",
      "weighted avg       0.71      0.72      0.69      1280\n",
      "\n",
      "Accuracy score of TF-IDF Bigram mehtod :0.715625\n",
      "              precision    recall  f1-score   support\n",
      "\n",
      "          -1       0.65      0.71      0.68       465\n",
      "           1       0.83      0.78      0.80       815\n",
      "\n",
      "    accuracy                           0.76      1280\n",
      "   macro avg       0.74      0.75      0.74      1280\n",
      "weighted avg       0.76      0.76      0.76      1280\n",
      "\n",
      "Accuracy score of TF-IDF, Bi-Trigram Character level mehtod :0.7578125\n"
     ]
    }
   ],
   "source": [
    "for method, name in vectorizer:\n",
    "    print('Accuracy score of {} mehtod :{}'.format(name, vectorizing_methods_ml(method, LogisticRegression(class_weight='balanced'), X, y)))"
   ]
  },
  {
   "cell_type": "markdown",
   "metadata": {},
   "source": [
    "Logisitc Regression, Imbalance Control with class_weight parameter(Penalization) -> CountVectorizer unigram Tfidf unigram"
   ]
  },
  {
   "cell_type": "code",
   "execution_count": 164,
   "metadata": {},
   "outputs": [
    {
     "name": "stdout",
     "output_type": "stream",
     "text": [
      "              precision    recall  f1-score   support\n",
      "\n",
      "          -1       0.65      0.74      0.69       465\n",
      "           1       0.84      0.77      0.80       815\n",
      "\n",
      "    accuracy                           0.76      1280\n",
      "   macro avg       0.74      0.75      0.75      1280\n",
      "weighted avg       0.77      0.76      0.76      1280\n",
      "\n",
      "Accuracy score of CV Unigram mehtod :0.759375\n",
      "              precision    recall  f1-score   support\n",
      "\n",
      "          -1       0.43      0.91      0.58       465\n",
      "           1       0.86      0.32      0.46       815\n",
      "\n",
      "    accuracy                           0.53      1280\n",
      "   macro avg       0.64      0.61      0.52      1280\n",
      "weighted avg       0.70      0.53      0.51      1280\n",
      "\n",
      "Accuracy score of CV Bigram mehtod :0.53203125\n",
      "              precision    recall  f1-score   support\n",
      "\n",
      "          -1       0.70      0.68      0.69       465\n",
      "           1       0.82      0.83      0.82       815\n",
      "\n",
      "    accuracy                           0.78      1280\n",
      "   macro avg       0.76      0.76      0.76      1280\n",
      "weighted avg       0.77      0.78      0.78      1280\n",
      "\n",
      "Accuracy score of TF-IDF Unigram mehtod :0.77578125\n",
      "              precision    recall  f1-score   support\n",
      "\n",
      "          -1       0.68      0.35      0.46       465\n",
      "           1       0.71      0.91      0.80       815\n",
      "\n",
      "    accuracy                           0.70      1280\n",
      "   macro avg       0.70      0.63      0.63      1280\n",
      "weighted avg       0.70      0.70      0.67      1280\n",
      "\n",
      "Accuracy score of TF-IDF Bigram mehtod :0.70390625\n",
      "              precision    recall  f1-score   support\n",
      "\n",
      "          -1       0.67      0.68      0.67       465\n",
      "           1       0.81      0.81      0.81       815\n",
      "\n",
      "    accuracy                           0.76      1280\n",
      "   macro avg       0.74      0.74      0.74      1280\n",
      "weighted avg       0.76      0.76      0.76      1280\n",
      "\n",
      "Accuracy score of TF-IDF, Bi-Trigram Character level mehtod :0.759375\n"
     ]
    }
   ],
   "source": [
    "for method, name in vectorizer:\n",
    "    print('Accuracy score of {} mehtod :{}'.format(name, imb_ml(method, LogisticRegression(class_weight='balanced'), X, y)))"
   ]
  },
  {
   "cell_type": "markdown",
   "metadata": {},
   "source": [
    "Logistic Regression with Imbalance Control (SMOTE -> Undersample) -> CountVectorizer Unigram, Tfidf Unigram"
   ]
  },
  {
   "cell_type": "markdown",
   "metadata": {},
   "source": [
    "### Support Vector Machine"
   ]
  },
  {
   "cell_type": "code",
   "execution_count": 138,
   "metadata": {},
   "outputs": [
    {
     "name": "stdout",
     "output_type": "stream",
     "text": [
      "              precision    recall  f1-score   support\n",
      "\n",
      "          -1       0.67      0.68      0.68       465\n",
      "           1       0.82      0.81      0.81       815\n",
      "\n",
      "    accuracy                           0.76      1280\n",
      "   macro avg       0.74      0.75      0.74      1280\n",
      "weighted avg       0.76      0.76      0.76      1280\n",
      "\n",
      "Accuracy score of CV Unigram mehtod :0.76328125\n",
      "              precision    recall  f1-score   support\n",
      "\n",
      "          -1       0.73      0.42      0.53       465\n",
      "           1       0.73      0.91      0.81       815\n",
      "\n",
      "    accuracy                           0.73      1280\n",
      "   macro avg       0.73      0.66      0.67      1280\n",
      "weighted avg       0.73      0.73      0.71      1280\n",
      "\n",
      "Accuracy score of CV Bigram mehtod :0.73125\n",
      "              precision    recall  f1-score   support\n",
      "\n",
      "          -1       0.69      0.69      0.69       465\n",
      "           1       0.82      0.82      0.82       815\n",
      "\n",
      "    accuracy                           0.78      1280\n",
      "   macro avg       0.76      0.76      0.76      1280\n",
      "weighted avg       0.78      0.78      0.78      1280\n",
      "\n",
      "Accuracy score of TF-IDF Unigram mehtod :0.77578125\n",
      "              precision    recall  f1-score   support\n",
      "\n",
      "          -1       0.73      0.40      0.51       465\n",
      "           1       0.73      0.91      0.81       815\n",
      "\n",
      "    accuracy                           0.73      1280\n",
      "   macro avg       0.73      0.66      0.66      1280\n",
      "weighted avg       0.73      0.73      0.70      1280\n",
      "\n",
      "Accuracy score of TF-IDF Bigram mehtod :0.7265625\n",
      "              precision    recall  f1-score   support\n",
      "\n",
      "          -1       0.66      0.67      0.66       465\n",
      "           1       0.81      0.80      0.80       815\n",
      "\n",
      "    accuracy                           0.75      1280\n",
      "   macro avg       0.73      0.73      0.73      1280\n",
      "weighted avg       0.75      0.75      0.75      1280\n",
      "\n",
      "Accuracy score of TF-IDF, Bi-Trigram Character level mehtod :0.75234375\n"
     ]
    }
   ],
   "source": [
    "for method, name in vectorizer:\n",
    "    print('Accuracy score of {} mehtod :{}'.format(name, vectorizing_methods_ml(method, LinearSVC(class_weight='balanced'), X, y)))"
   ]
  },
  {
   "cell_type": "markdown",
   "metadata": {},
   "source": [
    "Linear SVM class_weight parameter imbalance control -> CountVectorizer Unigram, Tfidf Unigram"
   ]
  },
  {
   "cell_type": "code",
   "execution_count": 139,
   "metadata": {},
   "outputs": [
    {
     "name": "stdout",
     "output_type": "stream",
     "text": [
      "              precision    recall  f1-score   support\n",
      "\n",
      "          -1       0.62      0.72      0.67       465\n",
      "           1       0.83      0.75      0.78       815\n",
      "\n",
      "    accuracy                           0.74      1280\n",
      "   macro avg       0.72      0.73      0.73      1280\n",
      "weighted avg       0.75      0.74      0.74      1280\n",
      "\n",
      "Accuracy score of CV Unigram mehtod :0.73828125\n",
      "              precision    recall  f1-score   support\n",
      "\n",
      "          -1       0.42      0.95      0.58       465\n",
      "           1       0.90      0.25      0.39       815\n",
      "\n",
      "    accuracy                           0.50      1280\n",
      "   macro avg       0.66      0.60      0.48      1280\n",
      "weighted avg       0.73      0.50      0.46      1280\n",
      "\n",
      "Accuracy score of CV Bigram mehtod :0.503125\n",
      "              precision    recall  f1-score   support\n",
      "\n",
      "          -1       0.70      0.67      0.69       465\n",
      "           1       0.82      0.83      0.83       815\n",
      "\n",
      "    accuracy                           0.78      1280\n",
      "   macro avg       0.76      0.75      0.76      1280\n",
      "weighted avg       0.77      0.78      0.77      1280\n",
      "\n",
      "Accuracy score of TF-IDF Unigram mehtod :0.77578125\n",
      "              precision    recall  f1-score   support\n",
      "\n",
      "          -1       0.74      0.37      0.49       465\n",
      "           1       0.72      0.93      0.81       815\n",
      "\n",
      "    accuracy                           0.72      1280\n",
      "   macro avg       0.73      0.65      0.65      1280\n",
      "weighted avg       0.73      0.72      0.69      1280\n",
      "\n",
      "Accuracy score of TF-IDF Bigram mehtod :0.72265625\n",
      "              precision    recall  f1-score   support\n",
      "\n",
      "          -1       0.67      0.65      0.66       465\n",
      "           1       0.80      0.81      0.81       815\n",
      "\n",
      "    accuracy                           0.76      1280\n",
      "   macro avg       0.74      0.73      0.74      1280\n",
      "weighted avg       0.76      0.76      0.76      1280\n",
      "\n",
      "Accuracy score of TF-IDF, Bi-Trigram Character level mehtod :0.75625\n"
     ]
    }
   ],
   "source": [
    "for method, name in vectorizer:\n",
    "    print('Accuracy score of {} mehtod :{}'.format(name, imb_ml(method, LinearSVC(), X, y)))"
   ]
  },
  {
   "cell_type": "markdown",
   "metadata": {},
   "source": [
    "SVM imbalance control (SMOTE -> Undersample) -> Countvecotrizer Unigram, Tfidf Unigram"
   ]
  },
  {
   "cell_type": "markdown",
   "metadata": {},
   "source": [
    "### XGBoost"
   ]
  },
  {
   "cell_type": "markdown",
   "metadata": {},
   "source": [
    "Ensemble Models doesnt work well with sparse data (BOW and TF-IDF generates Sparse matrix)\n",
    "<br>\n",
    "* XGBoost can work better with Sparse data\n",
    "* Tree models works well with imbalanced dataset\n",
    "* Based on the Results from linear classification models and probabilistic model, CountVectorizier and Tfidf worked Unigram worked best and also Bi-Trigram Character level method performed well"
   ]
  },
  {
   "cell_type": "code",
   "execution_count": 140,
   "metadata": {},
   "outputs": [],
   "source": [
    "from sklearn.preprocessing import LabelEncoder\n",
    "# Label Encoding Performed for XGB input purpose\n",
    "le = LabelEncoder()\n",
    "y = le.fit_transform(y)"
   ]
  },
  {
   "cell_type": "code",
   "execution_count": 159,
   "metadata": {},
   "outputs": [],
   "source": [
    "def vectorizing(method,  X, y):\n",
    "    vectorizer = method\n",
    "    vector = vectorizer.fit_transform(X).toarray()\n",
    "    \n",
    "    X_train, X_test, y_train, y_test = train_test_split(vector, y, test_size=0.25, random_state=42)    \n",
    "    \n",
    "    return X_train, X_test, y_train, y_test"
   ]
  },
  {
   "cell_type": "code",
   "execution_count": 168,
   "metadata": {},
   "outputs": [],
   "source": [
    "X_train, X_test, y_train, y_test = vectorizing(vectorizer[2][0],X, y)"
   ]
  },
  {
   "cell_type": "code",
   "execution_count": 170,
   "metadata": {},
   "outputs": [
    {
     "data": {
      "text/plain": [
       "0.75625"
      ]
     },
     "execution_count": 170,
     "metadata": {},
     "output_type": "execute_result"
    }
   ],
   "source": [
    "xg = xgb.XGBClassifier()\n",
    "\n",
    "xg.fit(X_train,y_train,\n",
    "       eval_set = [(X_train, y_train),(X_test, y_test)], #Dataset to evaluate each iteration\n",
    "       eval_metric = 'auc', #Evaluation Metrics \n",
    "       early_stopping_rounds=50, #Early Stop allow prevention of overfitting \n",
    "       verbose=False)\n",
    "\n",
    "prediction = xg.predict(X_test)\n",
    "proba = xg.predict_proba(X_test)[:,1]\n",
    "\n",
    "metrics.accuracy_score(y_test, prediction)"
   ]
  },
  {
   "cell_type": "code",
   "execution_count": 171,
   "metadata": {},
   "outputs": [
    {
     "data": {
      "text/plain": [
       "array([0.72730964, 0.4716035 , 0.20968276, ..., 0.9117628 , 0.681519  ,\n",
       "       0.9545288 ], dtype=float32)"
      ]
     },
     "execution_count": 171,
     "metadata": {},
     "output_type": "execute_result"
    }
   ],
   "source": [
    "proba"
   ]
  },
  {
   "cell_type": "code",
   "execution_count": 148,
   "metadata": {},
   "outputs": [],
   "source": [
    "#Converting Train and Test dataset into DMatrix - Memory efficient + better training speed\n",
    "d_train = xgb.DMatrix(X_train, y_train)\n",
    "d_test = xgb.DMatrix(X_test, y_test)\n",
    "\n",
    "# Altering Parameters\n",
    "xgb_clf = xgb.train({'max_depth':10, 'eta':0.5, 'subsample':0.8, 'eval_metric':'error','objective': 'binary:logistic'},\n",
    "                    d_train, verbose_eval= False, num_boost_round= 50,\n",
    "                  evals = [(d_train, 'train'), (d_test, 'test')], early_stopping_rounds = 50)"
   ]
  },
  {
   "cell_type": "code",
   "execution_count": 149,
   "metadata": {},
   "outputs": [
    {
     "name": "stdout",
     "output_type": "stream",
     "text": [
      "\n",
      "Test  Accuracy Score : 0.74\n",
      "Train Accuracy Score : 0.89\n",
      "[[252 213]\n",
      " [124 691]]\n",
      "              precision    recall  f1-score   support\n",
      "\n",
      "           0       0.67      0.54      0.60       465\n",
      "           1       0.76      0.85      0.80       815\n",
      "\n",
      "    accuracy                           0.74      1280\n",
      "   macro avg       0.72      0.69      0.70      1280\n",
      "weighted avg       0.73      0.74      0.73      1280\n",
      "\n"
     ]
    }
   ],
   "source": [
    "#Predict method returns continuous variables -> Convert them into 1 or 0 (Threshold Setting)\n",
    "train_preds = [1 if pred>0.5 else 0 for pred in xgb_clf.predict(d_train)]\n",
    "test_preds = [1 if pred>0.5 else 0 for pred in xgb_clf.predict(d_test)]\n",
    "\n",
    "print(\"\\nTest  Accuracy Score : %.2f\"%metrics.accuracy_score(y_test, test_preds))\n",
    "print(\"Train Accuracy Score : %.2f\"%metrics.accuracy_score(y_train, train_preds))\n",
    "\n",
    "#Evaluation Metrics\n",
    "print(metrics.confusion_matrix(y_test, test_preds))\n",
    "print(metrics.classification_report(y_test, test_preds))"
   ]
  },
  {
   "cell_type": "code",
   "execution_count": 155,
   "metadata": {},
   "outputs": [],
   "source": [
    "# ROC_AUC Curve Plotting function \n",
    "def ROC_AUC (ml, X_train, y_train, X_test, y_test ,ml_name):\n",
    "    \n",
    "    #Model Training\n",
    "    model = ml\n",
    "    model = ml.fit(X_train, y_train)\n",
    "    \n",
    "    # generate a no skill prediction (majority class)\n",
    "    ns_probs = [0 for _ in range(len(y_test))]\n",
    "    \n",
    "    # predict probabilities\n",
    "    # keep probabilities for the positive outcome only\n",
    "    model_probs = model.predict_proba(X_test)\n",
    "    model_probs = model_probs[:, 1]\n",
    "    \n",
    "    # calculate scores\n",
    "    ns_auc = roc_auc_score(y_test, ns_probs)\n",
    "    model_auc = roc_auc_score(y_test, model_probs)\n",
    "    \n",
    "    # summarize scores\n",
    "    print(ml_name + ' ROC AUC=%.3f' % (model_auc))\n",
    "    \n",
    "    # calculate roc curves\n",
    "    ns_fpr, ns_tpr, _ = roc_curve(y_test, ns_probs)\n",
    "    model_fpr, model_tpr, _ = roc_curve(y_test, model_probs)\n",
    "    \n",
    "    # plot the roc curve for the model\n",
    "    plt.plot(ns_fpr, ns_tpr, linestyle='--', label='No Skill')\n",
    "    plt.plot(model_fpr, model_tpr, marker='.', label= ml_name)\n",
    "    # axis labels\n",
    "    plt.xlabel('False Positive Rate')\n",
    "    plt.ylabel('True Positive Rate')\n",
    "    # show the legend\n",
    "    plt.legend()\n",
    "    # show the plot\n",
    "    return plt.show()"
   ]
  },
  {
   "cell_type": "code",
   "execution_count": 175,
   "metadata": {},
   "outputs": [],
   "source": [
    "X_train, X_test, y_train, y_test = vectorizing(vectorizer[0][0],X, y)"
   ]
  },
  {
   "cell_type": "code",
   "execution_count": 176,
   "metadata": {},
   "outputs": [],
   "source": [
    "from sklearn.calibration import CalibratedClassifierCV"
   ]
  },
  {
   "cell_type": "code",
   "execution_count": 178,
   "metadata": {},
   "outputs": [
    {
     "name": "stdout",
     "output_type": "stream",
     "text": [
      "Naive Bayes ROC AUC=0.821\n"
     ]
    },
    {
     "data": {
      "image/png": "[encoded data removed]",
      "text/plain": [
       "<Figure size 432x288 with 1 Axes>"
      ]
     },
     "metadata": {
      "needs_background": "light"
     },
     "output_type": "display_data"
    },
    {
     "name": "stdout",
     "output_type": "stream",
     "text": [
      "Logistic ROC AUC=0.842\n"
     ]
    },
    {
     "data": {
      "image/png": "[encoded data removed]",
      "text/plain": [
       "<Figure size 432x288 with 1 Axes>"
      ]
     },
     "metadata": {
      "needs_background": "light"
     },
     "output_type": "display_data"
    },
    {
     "name": "stdout",
     "output_type": "stream",
     "text": [
      "SVC ROC AUC=0.823\n"
     ]
    },
    {
     "data": {
      "image/png": "[encoded data removed]",
      "text/plain": [
       "<Figure size 432x288 with 1 Axes>"
      ]
     },
     "metadata": {
      "needs_background": "light"
     },
     "output_type": "display_data"
    }
   ],
   "source": [
    "ROC_AUC(MultinomialNB(), X_train, y_train, X_test, y_test, 'Naive Bayes')\n",
    "ROC_AUC(LogisticRegression(), X_train, y_train, X_test, y_test, 'Logistic')\n",
    "ROC_AUC(CalibratedClassifierCV(LinearSVC()), X_train, y_train, X_test, y_test, 'SVC')"
   ]
  },
  {
   "cell_type": "markdown",
   "metadata": {},
   "source": [
    "## Conclusion\n",
    "- Three models have been tested for their performance and Logisic regression had the highest accuracy rate and AUC score. (CountVectorizer - Unigram - Logisitc Regression)\n",
    "- The objective was to get the best Precision and Recall score for both classes (Positve and Negative Sentiment) and no threshold shift was used (not alternating the threshold - TPR vs FPR)\n",
    "- Further Improvement can be done using hyperparameter tunning, however we will be comparing with Neural Network (Recurrent)"
   ]
  }
 ],
 "metadata": {
  "kernelspec": {
   "display_name": "Python 3",
   "language": "python",
   "name": "python3"
  },
  "language_info": {
   "codemirror_mode": {
    "name": "ipython",
    "version": 3
   },
   "file_extension": ".py",
   "mimetype": "text/x-python",
   "name": "python",
   "nbconvert_exporter": "python",
   "pygments_lexer": "ipython3",
   "version": "3.8.3"
  }
 },
 "nbformat": 4,
 "nbformat_minor": 4
}
